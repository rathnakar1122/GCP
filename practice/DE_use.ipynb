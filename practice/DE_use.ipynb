{
 "cells": [
  {
   "cell_type": "code",
   "execution_count": 3,
   "metadata": {},
   "outputs": [
    {
     "name": "stdout",
     "output_type": "stream",
     "text": [
      "JSON file has been created at data.json\n"
     ]
    }
   ],
   "source": [
    "import json\n",
    "\n",
    "# Example data - an array of dictionaries (objects)\n",
    "data = [\n",
    "    {\"name\": \"Alice\", \"age\": 30, \"city\": \"New York\"},\n",
    "    {\"name\": \"Bob\", \"age\": 25, \"city\": \"San Francisco\"},\n",
    "    {\"name\": \"Charlie\", \"age\": 35, \"city\": \"Chicago\"}\n",
    "]\n",
    "\n",
    "# File path where you want to save the JSON file\n",
    "file_path = 'data.json'\n",
    "\n",
    "# Writing the array to a JSON file\n",
    "with open(file_path, 'w') as json_file:\n",
    "    json.dump(data, json_file, indent=4)\n",
    "\n",
    "print(f\"JSON file has been created at {file_path}\")\n"
   ]
  },
  {
   "cell_type": "code",
   "execution_count": 6,
   "metadata": {},
   "outputs": [
    {
     "name": "stdout",
     "output_type": "stream",
     "text": [
      "    OrderID   ProductID  ProductName   QuantitySold     SaleDate  CustomerID  \\\n",
      "0         1         101     Widget A              2   2024-10-01        C001   \n",
      "1         2         102     Widget B              1   2024-10-01        C002   \n",
      "2         3         101     Widget A              1   2024-10-02        C001   \n",
      "3         4         103     Widget C              3   2024-10-02        C003   \n",
      "4         5         102     Widget B              2   2024-10-03        C004   \n",
      "5         6         101     Widget A              4   2024-10-04        C005   \n",
      "6         7         104     Widget D              5   2024-10-05        C006   \n",
      "7         8         101     Widget A              3   2024-10-06        C007   \n",
      "8         9         105     Widget E              2   2024-10-06        C008   \n",
      "9        10         102     Widget B              3   2024-10-07        C009   \n",
      "10       11         103     Widget C              2   2024-10-07        C001   \n",
      "11       12         104     Widget D              1   2024-10-08        C002   \n",
      "12       13         106     Widget F              3   2024-10-09        C003   \n",
      "13       14         102     Widget B              4   2024-10-10        C010   \n",
      "14       15         105     Widget E              2   2024-10-10        C001   \n",
      "\n",
      "     Price  \n",
      "0     10.0  \n",
      "1     20.0  \n",
      "2     10.0  \n",
      "3     15.0  \n",
      "4     20.0  \n",
      "5     10.0  \n",
      "6     25.0  \n",
      "7     10.0  \n",
      "8     30.0  \n",
      "9     20.0  \n",
      "10    15.0  \n",
      "11    25.0  \n",
      "12    35.0  \n",
      "13    20.0  \n",
      "14    30.0  \n"
     ]
    }
   ],
   "source": [
    "import pandas as pd\n",
    "from datetime import datetime, timedelta\n",
    "import logging  \n",
    "\n",
    "logging.basicConfig(level=logging.ERROR)\n",
    "#    1. Read the CSV file into a Pandas DataFrame.\n",
    "\n",
    "file_path = r'C:\\ENV\\PREP\\DE_class\\regular_use_cases\\sales_data.csv'\n",
    "df = pd.read_csv(file_path)\n",
    "print(df)\n",
    "\n",
    "\n",
    "# #    2. Calculate the total sales for each product based on the QuantitySold and Price columns.\n",
    "# df['total_sales'] = df[' QuantitySold '] * df[' Price']\n",
    "\n",
    "# print(df)"
   ]
  },
  {
   "cell_type": "code",
   "execution_count": 7,
   "metadata": {},
   "outputs": [
    {
     "name": "stdout",
     "output_type": "stream",
     "text": [
      "    OrderID  ProductID ProductName  QuantitySold     SaleDate CustomerID  \\\n",
      "0         1        101    Widget A             2   2024-10-01       C001   \n",
      "1         2        102    Widget B             1   2024-10-01       C002   \n",
      "2         3        101    Widget A             1   2024-10-02       C001   \n",
      "3         4        103    Widget C             3   2024-10-02       C003   \n",
      "4         5        102    Widget B             2   2024-10-03       C004   \n",
      "5         6        101    Widget A             4   2024-10-04       C005   \n",
      "6         7        104    Widget D             5   2024-10-05       C006   \n",
      "7         8        101    Widget A             3   2024-10-06       C007   \n",
      "8         9        105    Widget E             2   2024-10-06       C008   \n",
      "9        10        102    Widget B             3   2024-10-07       C009   \n",
      "10       11        103    Widget C             2   2024-10-07       C001   \n",
      "11       12        104    Widget D             1   2024-10-08       C002   \n",
      "12       13        106    Widget F             3   2024-10-09       C003   \n",
      "13       14        102    Widget B             4   2024-10-10       C010   \n",
      "14       15        105    Widget E             2   2024-10-10       C001   \n",
      "\n",
      "    Price  total_sales  \n",
      "0    10.0         20.0  \n",
      "1    20.0         20.0  \n",
      "2    10.0         10.0  \n",
      "3    15.0         45.0  \n",
      "4    20.0         40.0  \n",
      "5    10.0         40.0  \n",
      "6    25.0        125.0  \n",
      "7    10.0         30.0  \n",
      "8    30.0         60.0  \n",
      "9    20.0         60.0  \n",
      "10   15.0         30.0  \n",
      "11   25.0         25.0  \n",
      "12   35.0        105.0  \n",
      "13   20.0         80.0  \n",
      "14   30.0         60.0  \n"
     ]
    }
   ],
   "source": [
    "import pandas as pd\n",
    "import logging\n",
    "\n",
    "logging.basicConfig(level=logging.ERROR)\n",
    "\n",
    "# 1. Read the CSV file into a Pandas DataFrame.\n",
    "file_path = r'C:\\ENV\\PREP\\DE_class\\regular_use_cases\\sales_data.csv'\n",
    "df = pd.read_csv(file_path)\n",
    "\n",
    "# Strip any whitespace from column names\n",
    "df.columns = df.columns.str.strip()\n",
    "\n",
    "# Calculate the total sales for each product based on the QuantitySold and Price columns.\n",
    "df['total_sales'] = df['QuantitySold'] * df['Price']\n",
    "\n",
    "print(df)\n"
   ]
  },
  {
   "cell_type": "code",
   "execution_count": 8,
   "metadata": {},
   "outputs": [
    {
     "data": {
      "text/plain": [
       "\"Python Data Engineering UseCase:\\n--------------------------------\\nPython Programme related to data engineering that focuses on handling CSV files, along with a relevant business use case:\\nUse Case: E-commerce Sales Analysis\\nAn e-commerce company wants to analyze its sales data to improve inventory management and customer satisfaction. They have a CSV file (sales_data.csv) with the following structure:\\n\\nsales_data.csv:\\nOrderID, ProductID, ProductName, QuantitySold, SaleDate, CustomerID, Price\\n1, 101, Widget A, 2, 2024-10-01, C001, 10.00\\n2, 102, Widget B, 1, 2024-10-01, C002, 20.00\\n3, 101, Widget A, 1, 2024-10-02, C001, 10.00\\n4, 103, Widget C, 3, 2024-10-02, C003, 15.00\\n5, 102, Widget B, 2, 2024-10-03, C004, 20.00\\n\\n\\nWrite a Python function that performs the following tasks:\\n\\n    1. Read the CSV file into a Pandas DataFrame.\\n    \\n    2. Calculate the total sales for each product based on the QuantitySold and Price columns.\\n    \\n    3. Identify the product with the highest sales and return its name, total sales amount, and the total quantity sold.\\n    \\n    4. Filter the sales data to only include sales that occurred in the last week from todayâ€™s date (use datetime for date handling).\\n    \\nExample Output:\\nFor instance, if today's date is 2024-10-04, the function should return:\\n\\nProduct with highest sales: Widget A\\nTotal Sales Amount: $30.00\\nTotal Quantity Sold: 3\""
      ]
     },
     "execution_count": 8,
     "metadata": {},
     "output_type": "execute_result"
    }
   ],
   "source": [
    "\"\"\"Python Data Engineering UseCase:\n",
    "--------------------------------\n",
    "Python Programme related to data engineering that focuses on handling CSV files, along with a relevant business use case:\n",
    "Use Case: E-commerce Sales Analysis\n",
    "An e-commerce company wants to analyze its sales data to improve inventory management and customer satisfaction. They have a CSV file (sales_data.csv) with the following structure:\n",
    "\n",
    "sales_data.csv:\n",
    "OrderID, ProductID, ProductName, QuantitySold, SaleDate, CustomerID, Price\n",
    "1, 101, Widget A, 2, 2024-10-01, C001, 10.00\n",
    "2, 102, Widget B, 1, 2024-10-01, C002, 20.00\n",
    "3, 101, Widget A, 1, 2024-10-02, C001, 10.00\n",
    "4, 103, Widget C, 3, 2024-10-02, C003, 15.00\n",
    "5, 102, Widget B, 2, 2024-10-03, C004, 20.00\n",
    "\n",
    "\n",
    "Write a Python function that performs the following tasks:\n",
    "\n",
    "    1. Read the CSV file into a Pandas DataFrame.\n",
    "    \n",
    "    2. Calculate the total sales for each product based on the QuantitySold and Price columns.\n",
    "    \n",
    "    3. Identify the product with the highest sales and return its name, total sales amount, and the total quantity sold.\n",
    "    \n",
    "    4. Filter the sales data to only include sales that occurred in the last week from todayâ€™s date (use datetime for date handling).\n",
    "    \n",
    "Example Output:\n",
    "For instance, if today's date is 2024-10-04, the function should return:\n",
    "\n",
    "Product with highest sales: Widget A\n",
    "Total Sales Amount: $30.00\n",
    "Total Quantity Sold: 3\"\"\"\n",
    "\n",
    "\n",
    "\n",
    "\n",
    "\n"
   ]
  },
  {
   "cell_type": "code",
   "execution_count": 10,
   "metadata": {},
   "outputs": [
    {
     "name": "stdout",
     "output_type": "stream",
     "text": [
      "1\n",
      "2\n",
      "Columns in the DataFrame: ['OrderID', 'ProductID', 'ProductName', 'QuantitySold', 'SaleDate', 'CustomerID', 'Price']\n",
      "3\n",
      "4\n",
      "5\n",
      "6\n",
      "Total sales for each product:\n",
      "  ProductName  TotalSale  QuantitySold\n",
      "0    Widget A      100.0            10\n",
      "1    Widget B      200.0            10\n",
      "2    Widget C       75.0             5\n",
      "3    Widget D      150.0             6\n",
      "4    Widget E      120.0             4\n",
      "5    Widget F      105.0             3\n",
      "\n",
      "Product with the highest sales:\n",
      "Product Name:  Widget B\n",
      "Total Sales Amount: 200.0\n",
      "Total Quantity Sold: 10\n",
      "\n",
      "Sales data from the last week:\n",
      "Empty DataFrame\n",
      "Columns: [OrderID, ProductID, ProductName, QuantitySold, SaleDate, CustomerID, Price, TotalSale]\n",
      "Index: []\n"
     ]
    }
   ],
   "source": [
    "import pandas as pd\n",
    "from datetime import datetime, timedelta\n",
    "\n",
    "file_name_with_path = r'C:\\ENV\\PREP\\DE_class\\regular_use_cases\\sales_data.csv'\n",
    "\n",
    "def ecommerce_sales_analysis():\n",
    "    # Step 1: Read the CSV file into a Pandas DataFrame\n",
    "    df = pd.read_csv(file_name_with_path)\n",
    "    print(1)\n",
    "\n",
    "    # Clean up column names by stripping whitespace\n",
    "    df.columns = df.columns.str.strip()\n",
    "    print(2)\n",
    "    # Display column names to check if they match the expected names\n",
    "    print(\"Columns in the DataFrame:\", df.columns.tolist())\n",
    "    print(3)\n",
    "\n",
    "    # Step 2: Calculate the total sales for each product based on QuantitySold and Price\n",
    "    if 'QuantitySold' in df.columns and 'Price' in df.columns:\n",
    "        df['TotalSale'] = df['QuantitySold'] * df['Price']\n",
    "        total_sales = df.groupby('ProductName').agg({'TotalSale': 'sum', 'QuantitySold': 'sum'}).reset_index()\n",
    "    else:\n",
    "        print(\"Required columns 'QuantitySold' and 'Price' not found in the CSV file.\")\n",
    "        return\n",
    "    print(4)\n",
    "    # Step 3: Identify the product with the highest sales\n",
    "    highest_sales_product = total_sales.loc[total_sales['TotalSale'].idxmax()]\n",
    "    product_name = highest_sales_product['ProductName']\n",
    "    total_sales_amount = highest_sales_product['TotalSale']\n",
    "    total_quantity_sold = highest_sales_product['QuantitySold']\n",
    "    print(5)\n",
    "    # Step 4: Filter the sales data to only include sales that occurred in the last week from today's date\n",
    "    df['SaleDate'] = pd.to_datetime(df['SaleDate'])\n",
    "    last_week = datetime.now() - timedelta(weeks=1)\n",
    "    recent_sales = df[df['SaleDate'] >= last_week]\n",
    "    print(6)\n",
    "    # Display the results\n",
    "    print(\"Total sales for each product:\")\n",
    "    print(total_sales)\n",
    "    print(\"\\nProduct with the highest sales:\")\n",
    "    print(f\"Product Name: {product_name}\")\n",
    "    print(f\"Total Sales Amount: {total_sales_amount}\")\n",
    "    print(f\"Total Quantity Sold: {total_quantity_sold}\")\n",
    "    print(\"\\nSales data from the last week:\")\n",
    "    print(recent_sales)\n",
    "\n",
    "# Run the function\n",
    "ecommerce_sales_analysis()\n"
   ]
  }
 ],
 "metadata": {
  "kernelspec": {
   "display_name": "Python 3",
   "language": "python",
   "name": "python3"
  },
  "language_info": {
   "codemirror_mode": {
    "name": "ipython",
    "version": 3
   },
   "file_extension": ".py",
   "mimetype": "text/x-python",
   "name": "python",
   "nbconvert_exporter": "python",
   "pygments_lexer": "ipython3",
   "version": "3.10.11"
  }
 },
 "nbformat": 4,
 "nbformat_minor": 2
}
