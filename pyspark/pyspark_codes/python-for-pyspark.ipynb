{
 "cells": [
  {
   "cell_type": "raw",
   "id": "dbcf60c8-0696-40aa-a704-67db35d010f0",
   "metadata": {},
   "source": [
    "# Main features of python "
   ]
  },
  {
   "cell_type": "code",
   "execution_count": 3,
   "id": "ed48644e-bfb5-45ba-99e8-e7d22971796a",
   "metadata": {},
   "outputs": [
    {
     "name": "stdout",
     "output_type": "stream",
     "text": [
      "hello world\n"
     ]
    }
   ],
   "source": [
    "print(\"hello world\")"
   ]
  },
  {
   "cell_type": "code",
   "execution_count": 4,
   "id": "a413f85c-bc16-4fc5-aeca-c68f9c7b33cb",
   "metadata": {},
   "outputs": [
    {
     "data": {
      "text/plain": [
       "range(1, 10)"
      ]
     },
     "execution_count": 4,
     "metadata": {},
     "output_type": "execute_result"
    }
   ],
   "source": [
    "range (1 ,10)"
   ]
  },
  {
   "cell_type": "code",
   "execution_count": 6,
   "id": "7f056860-a50b-4f78-8f4a-dfbebb7e215b",
   "metadata": {},
   "outputs": [],
   "source": [
    "#  Importenet features of python:\n",
    "# * python is interpreter langugaes and very powerfull languages\n",
    "# * processed at runtime by the interpreter , we are not required to run the compiler the programe into machine code before executing it.\n",
    "# Python is a interactive Languages:\n",
    "# python is object oriented \n",
    "# python is Dynamic type of example:\n",
    "# spark was a dynamic typed:\n",
    "# Easy to maintain , read and maintain \n",
    "# portable , extendable --> "
   ]
  },
  {
   "cell_type": "raw",
   "id": "dbf05789-ad88-4c8b-bc0b-099e1384b804",
   "metadata": {},
   "source": [
    "PYTHON BASICS :-->"
   ]
  },
  {
   "cell_type": "code",
   "execution_count": 8,
   "id": "459ae07c-59cf-4430-805a-95b922b77a4f",
   "metadata": {},
   "outputs": [],
   "source": [
    "word='word'   # word put signel code"
   ]
  },
  {
   "cell_type": "code",
   "execution_count": 9,
   "id": "5cc778a8-39b9-45ba-9864-f642174c606e",
   "metadata": {},
   "outputs": [],
   "source": [
    "sentence = \"sentence \" # for sentence we need to keep sentence code "
   ]
  },
  {
   "cell_type": "code",
   "execution_count": 10,
   "id": "d6c677d0-f393-41f9-bc48-ab927569b72b",
   "metadata": {},
   "outputs": [],
   "source": [
    "paragraph = \"\"\"this is the prograph it can have multiple lines of the code \"\"\""
   ]
  },
  {
   "cell_type": "code",
   "execution_count": 15,
   "id": "b59b697a-6ff3-44c9-b468-ebd6375fa874",
   "metadata": {},
   "outputs": [],
   "source": [
    "# way of writing the python codes:\n",
    "# interactive mode # \n",
    "# need to interactive file # "
   ]
  },
  {
   "cell_type": "code",
   "execution_count": 23,
   "id": "b8ae3d6b-daf0-451e-b486-ac9b8ffbe287",
   "metadata": {},
   "outputs": [
    {
     "data": {
      "text/plain": [
       "('orange ', 'banana', 'cherry')"
      ]
     },
     "execution_count": 23,
     "metadata": {},
     "output_type": "execute_result"
    }
   ],
   "source": [
    "x,y,z = \"orange \", \"banana\", \"cherry\"\n",
    "x, y,z"
   ]
  },
  {
   "cell_type": "code",
   "execution_count": 29,
   "id": "7c0ab075-fa4c-4578-9f3c-2ce5dbe25285",
   "metadata": {},
   "outputs": [
    {
     "name": "stdout",
     "output_type": "stream",
     "text": [
      "Inside func: global variable\n",
      "Outside func: global variable\n"
     ]
    }
   ],
   "source": [
    "x = \"global variable\"\n",
    "\n",
    "def func():\n",
    "    print(\"Inside func:\", x)\n",
    "\n",
    "func()\n",
    "print(\"Outside func:\", x)\n"
   ]
  },
  {
   "cell_type": "code",
   "execution_count": null,
   "id": "47d0d920-b91e-4f7c-8b8b-27473d7384d9",
   "metadata": {},
   "outputs": [],
   "source": [
    "def func():\n",
    "    x = \"fentastic\"  # Local variable\n",
    "    print(\"python is \" + x)\n",
    "\n",
    "def myfunc():\n",
    "    x = \"fentastic\"  # Local variable\n",
    "    return x  # This function now returns the value of x\n",
    "\n",
    "func()\n",
    "result = myfunc()\n",
    "print(\"Result from myfunc:\", result)\n"
   ]
  },
  {
   "cell_type": "code",
   "execution_count": 48,
   "id": "33bc0698-7dae-429d-9142-1044d83d6cc9",
   "metadata": {},
   "outputs": [
    {
     "name": "stdout",
     "output_type": "stream",
     "text": [
      "hello world\n",
      "I am learning python :spark, and this course is awesome\n",
      "I m learning python :spark, and this course is awasome\n",
      "I m learning python: spark, and this course is awasome\n",
      "I am learning spark: spark, and this course awasome\n",
      "No Python documentation found for 'spark'.\n",
      "Use help() to get the interactive help utility.\n",
      "Use help(str) for help on the str class.\n",
      "\n"
     ]
    }
   ],
   "source": [
    "print(\"hello world\")\n",
    "print(\"I am learning python :{course}, and this course is {fill}\".format(course='spark', fill='awesome'))\n",
    "print(\"I m learning python :{course}, and this course is {fill}\" .format (course ='spark', fill= 'awasome'))\n",
    "print ( \"I m learning python: {}, and this course is {}\".format ('spark' ,'awasome'))\n",
    "print (\"I am learning spark: {}, and this course {}\".format ('spark','awasome'))\n",
    "s='spark'\n",
    "type(s)\n",
    "help(s)"
   ]
  },
  {
   "cell_type": "raw",
   "id": "dd0efaac-c45a-4eb2-90fa-8713f64b50ae",
   "metadata": {},
   "source": [
    "    PYTHON OPERATOES:"
   ]
  },
  {
   "cell_type": "code",
   "execution_count": 1,
   "id": "2814fc96-2c36-4245-88b3-a8ccfd2fad2a",
   "metadata": {},
   "outputs": [
    {
     "name": "stdout",
     "output_type": "stream",
     "text": [
      "2025-01-02 23:27:07.584170\n",
      "Thursday\n",
      "Thursday\n",
      "2025-01-02 00:00:00\n",
      "1735840627.5851696\n",
      "time.struct_time(tm_year=2025, tm_mon=1, tm_mday=2, tm_hour=23, tm_min=27, tm_sec=7, tm_wday=3, tm_yday=2, tm_isdst=0)\n",
      "time.struct_time(tm_year=2025, tm_mon=1, tm_mday=2, tm_hour=23, tm_min=27, tm_sec=7, tm_wday=3, tm_yday=2, tm_isdst=0)\n"
     ]
    }
   ],
   "source": [
    "#python Date and time \n",
    "import datetime as d\n",
    "import time \n",
    "x = d.datetime.now()\n",
    "x.year\n",
    "x.month \n",
    "print(x)\n",
    "print(x.strftime(\"%A\"))\n",
    "print(x.strftime(\"%A\"))\n",
    "\n",
    "dt= (d.datetime(2025,1,2))\n",
    "print(dt)\n",
    "x=time.time()\n",
    "print(x)\n",
    "print(time.localtime(time.time()))\n",
    "print(time.localtime(time.time()))"
   ]
  },
  {
   "cell_type": "code",
   "execution_count": 2,
   "id": "8e2facad-29ed-4f56-81ba-00e314d26093",
   "metadata": {},
   "outputs": [
    {
     "name": "stdout",
     "output_type": "stream",
     "text": [
      "Thu Jan  2 23:27:08 2025\n"
     ]
    }
   ],
   "source": [
    "import time \n",
    "print(time.asctime(time.localtime(time.time())))"
   ]
  },
  {
   "cell_type": "raw",
   "id": "3a0fe906-29c7-4534-90c4-5ed45f3af89d",
   "metadata": {},
   "source": [
    "UDF:"
   ]
  },
  {
   "cell_type": "code",
   "execution_count": 1,
   "id": "96257238-844f-4161-a1a0-f62504d87ea1",
   "metadata": {},
   "outputs": [
    {
     "name": "stdout",
     "output_type": "stream",
     "text": [
      "<function my_functin at 0x00000207DB563520>\n"
     ]
    }
   ],
   "source": [
    "def my_functin():\n",
    "    return \"hello from my learn_spark.com\"\n",
    "print (my_functin)"
   ]
  },
  {
   "cell_type": "code",
   "execution_count": 2,
   "id": "b4886e1e-eedb-4535-a345-d7794fa3186f",
   "metadata": {},
   "outputs": [
    {
     "name": "stdout",
     "output_type": "stream",
     "text": [
      "30\n"
     ]
    }
   ],
   "source": [
    "def add(a,b):\n",
    "    return a+b\n",
    "resutl=add(10,20)\n",
    "print(resutl)"
   ]
  },
  {
   "cell_type": "raw",
   "id": "e5881854-3fd3-4650-b318-45e6e0f904a9",
   "metadata": {},
   "source": [
    "PYTHON lAMBDA FUNCTIONS:"
   ]
  },
  {
   "cell_type": "code",
   "execution_count": null,
   "id": "7a6415e9-fcbc-48b1-b16b-6dd15a0a3123",
   "metadata": {},
   "outputs": [],
   "source": []
  },
  {
   "cell_type": "code",
   "execution_count": null,
   "id": "2c2e4f6a-7253-4000-959b-0eb57c596556",
   "metadata": {},
   "outputs": [],
   "source": []
  }
 ],
 "metadata": {
  "kernelspec": {
   "display_name": "Python 3 (ipykernel)",
   "language": "python",
   "name": "python3"
  },
  "language_info": {
   "codemirror_mode": {
    "name": "ipython",
    "version": 3
   },
   "file_extension": ".py",
   "mimetype": "text/x-python",
   "name": "python",
   "nbconvert_exporter": "python",
   "pygments_lexer": "ipython3",
   "version": "3.10.11"
  }
 },
 "nbformat": 4,
 "nbformat_minor": 5
}
