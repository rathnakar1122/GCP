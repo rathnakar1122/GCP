{
 "cells": [
  {
   "cell_type": "code",
   "execution_count": 17,
   "id": "a80a37a2-8fd1-4999-a3a8-29afba4e0879",
   "metadata": {},
   "outputs": [
    {
     "name": "stdout",
     "output_type": "stream",
     "text": [
      "12\n"
     ]
    }
   ],
   "source": [
    "\"\"\" F1. functions --1\"\"\"\n",
    "#adding 2 number \n",
    "def add(a,b):\n",
    "    return a+b\n",
    "  \n",
    "result = add(5,7)\n",
    "print(result)\n",
    "\n"
   ]
  },
  {
   "cell_type": "code",
   "execution_count": 30,
   "id": "7254ba95-50fd-4c58-a0f0-5c5035a48fb4",
   "metadata": {},
   "outputs": [
    {
     "name": "stdout",
     "output_type": "stream",
     "text": [
      "246\n",
      "5\n"
     ]
    }
   ],
   "source": [
    "def adding_two_numbers(value1,value2):\n",
    "    result = value1 + value2\n",
    "    print(result)\n",
    "adding_two_numbers(123,123)\n",
    "\n",
    "def subtracting_two_numbers(value1, value2):\n",
    "    result = value1 - value2  # Use the subtraction operator\n",
    "    print(result)\n",
    "\n",
    "# Example usage with defined values:\n",
    "value1 = 10\n",
    "value2 = 5\n",
    "subtracting_two_numbers(value1, value2)\n"
   ]
  },
  {
   "cell_type": "code",
   "execution_count": 53,
   "id": "8996403d-2865-4fcc-a0da-b275c8f2eb09",
   "metadata": {},
   "outputs": [
    {
     "name": "stdout",
     "output_type": "stream",
     "text": [
      "The sum is: 12\n"
     ]
    }
   ],
   "source": [
    "# basic structure of the function \n",
    "# Basic structure of the function\n",
    "def add_number(a, b):\n",
    "    \"\"\"\n",
    "    Adds two numbers and returns the result.\n",
    "\n",
    "    Parameters:\n",
    "    a (int or float): The first number.\n",
    "    b (int or float): The second number.\n",
    "\n",
    "    Returns:\n",
    "    int or float: The sum of the two numbers.\n",
    "    \"\"\"\n",
    "    return a + b\n",
    "\n",
    "# Example\n",
    "result = add_number(5, 7) # function execution happens when it is called. otherwise , the function not going to executed by python , even it is a code part programs , \n",
    "print(\"The sum is:\", result)\n"
   ]
  },
  {
   "cell_type": "code",
   "execution_count": 54,
   "id": "94f4473a-f4e4-4be7-816d-8146efe1ac0f",
   "metadata": {},
   "outputs": [
    {
     "name": "stdout",
     "output_type": "stream",
     "text": [
      "[1, 2, 3, 4]\n",
      "5\n"
     ]
    }
   ],
   "source": [
    "tuple = (1, 2, 3, 4, 5)\n",
    "*a, b = tuple  # `a` will capture all but the last element, and `b` captures the last element\n",
    "print(a)  # Output: [1, 2, 3, 4]\n",
    "print(b)  # Output: 5\n"
   ]
  },
  {
   "cell_type": "code",
   "execution_count": 55,
   "id": "f5aeaa71-34ee-4a67-b4a1-48e1a959f5e4",
   "metadata": {},
   "outputs": [
    {
     "name": "stdout",
     "output_type": "stream",
     "text": [
      "1\n",
      "2\n",
      "3\n",
      "4\n",
      "5\n"
     ]
    }
   ],
   "source": [
    "tuple = (1, 2, 3, 4, 5)\n",
    "a, b, c, d, e = tuple  # Unpacking all elements of the tuple\n",
    "print(a)  # Output: 1\n",
    "print(b)  # Output: 2\n",
    "print(c)  # Output: 3\n",
    "print(d)  # Output: 4\n",
    "print(e)  # Output: 5\n"
   ]
  },
  {
   "cell_type": "code",
   "execution_count": 57,
   "id": "cce8538c-89ed-4ef1-a701-d2440947b5dc",
   "metadata": {},
   "outputs": [
    {
     "name": "stdout",
     "output_type": "stream",
     "text": [
      "The sum is: 20\n"
     ]
    }
   ],
   "source": [
    "def add_numbers(*args):\n",
    "    \"\"\"\n",
    "    Function to add numbers passed as positional arguments.\n",
    "    \"\"\"\n",
    "    return sum(args)\n",
    "\n",
    "result = add_numbers(5, 7, 8)\n",
    "print(\"The sum is:\", result)\n"
   ]
  },
  {
   "cell_type": "code",
   "execution_count": 62,
   "id": "990ed77d-2c46-452e-830b-d9487fc33bb2",
   "metadata": {},
   "outputs": [
    {
     "name": "stdout",
     "output_type": "stream",
     "text": [
      "Arguments received: {'a': 5, 'b': 7, 'c': 8}\n",
      "The sum is: 20\n"
     ]
    }
   ],
   "source": [
    "def add_numbers(**kwargs):\n",
    "    \"\"\"\n",
    "    Function to add numbers passed as keyword arguments.\n",
    "    \"\"\"\n",
    "    print(\"Arguments received:\", kwargs)\n",
    "    return sum(kwargs.values())\n",
    "\n",
    "result = add_numbers(a=5, b=7, c=8)\n",
    "print(\"The sum is:\", result)\n"
   ]
  },
  {
   "cell_type": "code",
   "execution_count": 63,
   "id": "3cd9df27-dd30-4c41-a6de-4f581bd01619",
   "metadata": {},
   "outputs": [
    {
     "name": "stdout",
     "output_type": "stream",
     "text": [
      "-2\n"
     ]
    }
   ],
   "source": [
    "def substract_two_numbers(a,b):\n",
    "    return (a-b)\n",
    "result = substract_two_numbers(5,7)\n",
    "print(result)"
   ]
  },
  {
   "cell_type": "code",
   "execution_count": null,
   "id": "80c88c50-10ba-405b-8d89-7d8ee8d58650",
   "metadata": {},
   "outputs": [],
   "source": []
  },
  {
   "cell_type": "code",
   "execution_count": null,
   "id": "eeeef26a-276e-4b37-9d47-1fed03b9fed1",
   "metadata": {},
   "outputs": [],
   "source": []
  },
  {
   "cell_type": "code",
   "execution_count": null,
   "id": "647de1da-b223-48f3-b64c-0a52cb54779c",
   "metadata": {},
   "outputs": [],
   "source": []
  }
 ],
 "metadata": {
  "kernelspec": {
   "display_name": "Python 3 (ipykernel)",
   "language": "python",
   "name": "python3"
  },
  "language_info": {
   "codemirror_mode": {
    "name": "ipython",
    "version": 3
   },
   "file_extension": ".py",
   "mimetype": "text/x-python",
   "name": "python",
   "nbconvert_exporter": "python",
   "pygments_lexer": "ipython3",
   "version": "3.10.11"
  }
 },
 "nbformat": 4,
 "nbformat_minor": 5
}
