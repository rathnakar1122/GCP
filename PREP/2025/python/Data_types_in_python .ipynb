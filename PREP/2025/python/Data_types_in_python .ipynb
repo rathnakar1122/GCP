{
 "cells": [
  {
   "cell_type": "code",
   "execution_count": 2,
   "id": "e7379274-79f8-4bb8-b203-2dc8071983e0",
   "metadata": {},
   "outputs": [
    {
     "data": {
      "text/plain": [
       "'\\npython has following data types built i by default , in this categeries :\\n\\n\\n  - Numeric types : int , float, complexx\\n  - text type : str\\n  - sequence types : List, tuple, Range \\n  - set Types : set \\n  - mapping tye : dict\\n  - boolen type : bool \\n  - None type : Nonetype \\n\\n  '"
      ]
     },
     "execution_count": 2,
     "metadata": {},
     "output_type": "execute_result"
    }
   ],
   "source": [
    "\"\"\"\n",
    "python has following data types built i by default , in this categeries :\n",
    "\n",
    "\n",
    "  - Numeric types : int , float, complexx\n",
    "  - text type : str\n",
    "  - sequence types : List, tuple, Range \n",
    "  - set Types : set \n",
    "  - mapping tye : dict\n",
    "  - boolen type : bool \n",
    "  - None type : Nonetype \n",
    "\n",
    "  \"\"\"\n"
   ]
  },
  {
   "cell_type": "code",
   "execution_count": 10,
   "id": "4ca82113-f911-4a06-b68a-431e7ab7cc0f",
   "metadata": {},
   "outputs": [
    {
     "name": "stdout",
     "output_type": "stream",
     "text": [
      "['apple', 'banana', 'cherry']\n",
      "[101, 'Rathnakar ', 34, 20000, 121234567]\n"
     ]
    }
   ],
   "source": [
    "# Sequencential Data type :\n",
    "\"\"\"List \"\"\"\n",
    "\n",
    "\n",
    "\n",
    "\"\"\" in the above example - mylist is the name of variable\n",
    "the value assigned to mylist variable is :[\"apple\", \"banana\",\"cherry\"]\n",
    "List has got multiple values enclosed in set of squre buckets .\n",
    "That means multiple values , like string, ints , floats , and etc can be enclosed in a set of squre brackets and assigned it to variables \n",
    "It's a mandetary Giving [] at the both end of list of items separedted by comma in order to create list of objetcts in python \n",
    "we can insert and incluse differet types of items in a list objects \"\"\"\n",
    "\n",
    "list_of_fruits = ['apple', 'banana', 'cherry']   # it is a list of fruits \n",
    "print(list_of_fruits)\n",
    "emp_data = [101, \"Rathnakar \", 34, 20000, 121234567]\n",
    "emp1=[102, \"Rathnakar \", 34, 20000, 121234567]\n",
    "print(emp_data)\n",
    "\n",
    "# LIst methods, \n",
    "# 1.Dunders \n",
    "\n",
    "# 2.List method s \n",
    "\n"
   ]
  },
  {
   "cell_type": "code",
   "execution_count": 5,
   "id": "f33f8c59-e801-491f-af43-43d4ebf65b9c",
   "metadata": {},
   "outputs": [],
   "source": [
    "\"\"\"\n",
    "1. Multiple Value Storing:\n",
    "   - A list can store multiple values in a single variable.\n",
    "\n",
    "2. Ordered:\n",
    "   - List items are ordered. This means the items have a defined sequence that does not change on its own.\n",
    "   - However, you can change the order by inserting or deleting items.\n",
    "   - while string the list items into variable , system takes cre of the position of items in List \n",
    "   - said deffirently they are saved as it it.\n",
    "\n",
    "3. Index Support:\n",
    "   - List items can be accessed using their index.\n",
    "\n",
    "4. Mutable (Changeable):\n",
    "   - Lists are mutable, meaning their content can be changed (e.g., add, remove, or modify items).\n",
    "    - the list is changebale , meaning that we can change , add , and remove items in a list after items in the set of items after it has been created\n",
    "\n",
    "\"\"\"\n",
    "\n",
    "# List methods and attributes:\n",
    "# dir(list_of_fruits)\n",
    "# Output:\n",
    "# ['__add__', '__class__', '__class_getitem__', '__contains__', '__delattr__', '__delitem__', '__dir__', '__doc__',\n",
    "#  '__eq__', '__format__', '__ge__', '__getattribute__', '__getitem__', '__gt__', '__hash__', '__iadd__', '__imul__',\n",
    "#  '__init__', '__init_subclass__', '__iter__', '__le__', '__len__', '__lt__', '__mul__', '__ne__', '__new__',\n",
    "#  '__reduce__', '__reduce_ex__', '__subclasshook__', 'append', 'clear', 'copy', 'count', 'extend', 'index',\n",
    "#  'insert', 'pop', 'remove', 'reverse', 'sort']\n",
    "\n",
    "# Example of a list:\n",
    "list_of_fruits = ['apple', 'banana', 'cherry']  # This is a list of strings representing fruits.\n",
    "\n",
    "# Checking the type of the list:\n",
    "type(list_of_fruits)\n",
    "# Output: <class 'list'>\n",
    "\n",
    "# Changing the list to contain a single integer:\n",
    "list_of_fruits = [2]\n",
    "# Now, the list contains only the integer 2.\n"
   ]
  },
  {
   "cell_type": "code",
   "execution_count": 19,
   "id": "daf8938b-63ef-4dbf-94a4-9b362189f502",
   "metadata": {},
   "outputs": [
    {
     "name": "stdout",
     "output_type": "stream",
     "text": [
      "<class 'list'>\n",
      "cherry\n"
     ]
    }
   ],
   "source": [
    "list_of_fruits = ['apple', 'banana', 'cherry']  # Initialize the list with strings\n",
    "print(type(list_of_fruits) ) # Check the type of the list\n",
    "print(list_of_fruits[2])  # Reassign the list to contain only the integer 2\n",
    "\n"
   ]
  },
  {
   "cell_type": "code",
   "execution_count": 7,
   "id": "3f3a28b7-26fd-4bf5-afa5-1922021a5211",
   "metadata": {},
   "outputs": [
    {
     "name": "stdout",
     "output_type": "stream",
     "text": [
      "0 a\n",
      "1 10\n",
      "2 12.0\n",
      "3 a\n",
      "4 b\n",
      "5 d\n",
      "6 abc\n",
      "7\n"
     ]
    }
   ],
   "source": [
    "#enumerate  : enumerate creates the index for the each item in an Iterable obkect \n",
    "# but when we apply enumerate , it doens not garentee the order of index generation for the items in the set due to it's unordered features \n",
    "\n",
    "list = ['a', 10, 12.0, 'a', 'b', 'd', 'abc']\n",
    "for idx, value in enumerate(list):\n",
    "    print(idx, value)\n",
    "#print(lenlist(-1))\n",
    "print(len(list))\n",
    "\n",
    "\n",
    "# list_item_max_index_value = len(list) -1;\n",
    "# no_of_items_in_a_list = len(list):\n",
    "# list_item)min_indes_value = 0(always):\n"
   ]
  },
  {
   "cell_type": "code",
   "execution_count": 11,
   "id": "252d7636-d458-48fb-9d50-6b13fb87ecc8",
   "metadata": {},
   "outputs": [
    {
     "data": {
      "text/plain": [
       "\"#5. Constructing a list objects\\n\\n#creating a empty list \\nempty_list = []\\n# creating a list with elements \\nlist = [1,2,'raja']\\n# using a list constructure \\nlist_constructure = list()\\n\\n#conversations list \\n #we can create convert tauple and list in python \\nlist_constructue = list()\\n\\n# convseratuio list :\\nwe can create tuple set and list \\nlist_from_tup;e = list((1,2,3 , 'rani'))\\n\\n#nested_lists (list_within_list):\\nnested_list = [[1,2,3], ['a','b', 'c',],[true, false]\\n\\n\""
      ]
     },
     "execution_count": 11,
     "metadata": {},
     "output_type": "execute_result"
    }
   ],
   "source": [
    "\"\"\"#5. Constructing a list objects\n",
    "\n",
    "#creating a empty list \n",
    "empty_list = []\n",
    "# creating a list with elements \n",
    "list = [1,2,'raja']\n",
    "# using a list constructure \n",
    "list_constructure = list()\n",
    "\n",
    "#conversations list \n",
    " #we can create convert tauple and list in python \n",
    "list_constructue = list()\n",
    "\n",
    "# convseratuio list :\n",
    "we can create tuple set and list \n",
    "list_from_tup;e = list((1,2,3 , 'rani'))\n",
    "\n",
    "#nested_lists (list_within_list):\n",
    "nested_list = [[1,2,3], ['a','b', 'c',],[true, false]\n",
    "\n",
    "\"\"\""
   ]
  },
  {
   "cell_type": "code",
   "execution_count": 28,
   "id": "c846fd50-12a0-49f4-8334-73a09c4c1ab3",
   "metadata": {},
   "outputs": [],
   "source": [
    "#Action : adds an element at the end of the list \n",
    "list_of_fruits = ['apple', 'banana', 'cherry']\n",
    "list_of_fruits\n",
    "\"\"\"1. Append. \n",
    "\"\"\"\n",
    "list_of_fruits = ['apple', 'banana', 'cherry']\n",
    "list_of_fruits.append('Orange') \n"
   ]
  },
  {
   "cell_type": "code",
   "execution_count": 32,
   "id": "057c4d4d-4a2b-48f1-a305-435447569c59",
   "metadata": {},
   "outputs": [
    {
     "name": "stdout",
     "output_type": "stream",
     "text": [
      "['apple', 'banana', 'cherry', 'orange', 'Pappaya']\n"
     ]
    }
   ],
   "source": [
    "list_of_fruits = ['apple', 'banana', 'cherry']\n",
    "\n",
    "# Append a new fruit to the list\n",
    "list_of_fruits.append('orange')\n",
    "list_of_fruits.append('Pappaya')\n",
    "\n",
    "print(list_of_fruits)\n",
    "#- it adds only single element at one go.......\n",
    "#- it add the element at the end of the list ----in other word  we cn not insert the single elemtn at required position/index\n",
    "\n"
   ]
  },
  {
   "cell_type": "code",
   "execution_count": 48,
   "id": "f3f03f48-7cb8-411f-8814-3b13b5b90c8b",
   "metadata": {},
   "outputs": [
    {
     "name": "stdout",
     "output_type": "stream",
     "text": [
      "['apple', 'banana', 'cherry', 'orange', 'grape']\n"
     ]
    }
   ],
   "source": [
    "\"\"\" extend \n",
    "mthod sign  --> this is the method name , It belongs to the list class and is used to add multiple elemnets from an Iterable eo the end of the list \n",
    "\n",
    "def extend (iterable : Iterable [str],/) -> None \"\"\"\n",
    "list_of_fruits = ['apple', 'banana', 'cherry']\n",
    "list_of_fruits.extend(['orange', 'grape'])\n",
    "\n",
    "print(list_of_fruits)\n"
   ]
  },
  {
   "cell_type": "code",
   "execution_count": 57,
   "id": "7ffca20b-1172-4c3d-942a-a5cf14ab669d",
   "metadata": {},
   "outputs": [
    {
     "name": "stdout",
     "output_type": "stream",
     "text": [
      "3\n"
     ]
    }
   ],
   "source": [
    "\"\"\" INDEX --> this method is to find the 1st index value of the string\n",
    "\"\"\"   \n",
    "list_of_fruit = ['apple', 'banana', 'cherry', 'banana', 'orange']\n",
    "first_index = list_of_fruit.index('banana')\n",
    "second_index = list_of_fruit.index('banana', first_index + 1)\n",
    "\n",
    "print(second_index)\n",
    "#functionality : add an element at the specified position\n",
    "#'mango' [element] --> 3 [index position]"
   ]
  },
  {
   "cell_type": "code",
   "execution_count": 28,
   "id": "90b5c395-1fd4-46ce-96eb-ea958a43901e",
   "metadata": {},
   "outputs": [
    {
     "name": "stdout",
     "output_type": "stream",
     "text": [
      "['apple', 'banana', 'cherry']\n"
     ]
    }
   ],
   "source": [
    "\"\"\" POP  __ remove the element at the specified posotion \n",
    "\"\"\"\n",
    "\"\"\"Question is llike is we need to remove the banana from given python list make sure second occurence of the element is remove \n",
    "\"\"\"\n",
    "list_of_fruit = ['apple', 'banana', 'cherry', 'banana', 'orange']\n",
    "first_occurrence = list_of_fruit.index('banana', list_of_fruit.index('banana') + 1)\n",
    "list_of_fruit.pop()  # Remove the last element\n",
    "list_of_fruit.pop(first_occurrence)  # Remove the second occurrence of 'banana'\n",
    "\n",
    "print(list_of_fruit)\n"
   ]
  },
  {
   "cell_type": "code",
   "execution_count": 32,
   "id": "f9dc9acc-5c17-4618-81a0-50cb06a4e45b",
   "metadata": {},
   "outputs": [
    {
     "name": "stdout",
     "output_type": "stream",
     "text": [
      "[['apple', 'banana', 'cherry']]\n",
      "['apple', 'banana', 'cherry']\n"
     ]
    }
   ],
   "source": [
    "list_of_fruit = ['apple', 'banana', 'cherry', 'banana', 'orange']\n",
    "first = []\n",
    "first_occurene = list_of_fruit.index('banana', list_of_fruit.index('banana') + 1)\n",
    "list_of_fruit.pop()\n",
    "list_of_fruit.pop(first_occurene)\n",
    "first.append(list_of_fruit)\n",
    "print(first)\n",
    "print(list_of_fruit)"
   ]
  },
  {
   "cell_type": "code",
   "execution_count": 30,
   "id": "d6c15325-0ed8-4648-b4af-f588db3ff9d9",
   "metadata": {},
   "outputs": [
    {
     "name": "stdout",
     "output_type": "stream",
     "text": [
      "[['apple', 'banana', 'cherry']]\n",
      "['apple', 'banana', 'cherry']\n"
     ]
    }
   ],
   "source": [
    "list_of_fruit = ['apple', 'banana', 'cherry', 'banana', 'orange']\n",
    "first = []\n",
    "first_occurene = list_of_fruit.index('banana', list_of_fruit.index('banana') + 1)\n",
    "list_of_fruit.pop()\n",
    "list_of_fruit.pop(first_occurene)\n",
    "first.append(list_of_fruit)\n",
    "print(first)\n",
    "print(list_of_fruit)"
   ]
  },
  {
   "cell_type": "code",
   "execution_count": 40,
   "id": "673db4cb-967f-4954-901f-30366c7b64a4",
   "metadata": {},
   "outputs": [
    {
     "name": "stdout",
     "output_type": "stream",
     "text": [
      "1\n",
      "['apple', 'banana', 'cherry', 'orange']\n"
     ]
    }
   ],
   "source": [
    "\"\"\"\n",
    "Remove the first item with the specified value \n",
    "\"\"\"\n",
    "list_of_fruit = ['apple', 'banana', 'cherry', 'banana', 'orange']\n",
    "first_occurrence = list_of_fruit.index('banana')  # Find the first occurrence of 'banana'\n",
    "print(first_occurrence)\n",
    "\n",
    "# Remove 'banana' from the list after the first occurrence\n",
    "# First slice the list from the next element onward and then remove 'banana'\n",
    "remaining_fruits = list_of_fruit[first_occurrence + 1:]\n",
    "remaining_fruits.remove('banana')\n",
    "\n",
    "# Reassign the list with the modified part\n",
    "list_of_fruit = list_of_fruit[:first_occurrence + 1] + remaining_fruits\n",
    "\n",
    "print(list_of_fruit)\n",
    "\n"
   ]
  },
  {
   "cell_type": "code",
   "execution_count": 42,
   "id": "2be11e27-0de1-4cd4-a725-3f89de9251d7",
   "metadata": {},
   "outputs": [
    {
     "name": "stdout",
     "output_type": "stream",
     "text": [
      "[]\n"
     ]
    }
   ],
   "source": [
    "list_of_fruit = ['apple', 'banana', 'cherry', 'banana', 'orange']\n",
    "list_of_fruit.clear()\n",
    "print(list_of_fruit)"
   ]
  },
  {
   "cell_type": "code",
   "execution_count": 29,
   "id": "e84c2239-d9c7-460c-9861-8c38fdc43675",
   "metadata": {},
   "outputs": [
    {
     "name": "stdout",
     "output_type": "stream",
     "text": [
      "['apple', 'banana', 'cherry', 'banana', 'orange']\n",
      "[1, 2, 3, 3, 4, 2, 3, 4, 5, 7, 2, 5, 8, 1, 0]\n",
      "0 --> 1\n",
      "1 --> 2\n",
      "2 --> 3\n",
      "3 --> 3\n",
      "4 --> 2\n",
      "5 --> 2\n",
      "7 --> 1\n",
      "8 --> 1\n"
     ]
    }
   ],
   "source": [
    "\"\"\" COunt \n",
    "\"\"\"\n",
    "list_of_fruit = ['apple', 'banana', 'cherry', 'banana', 'orange']\n",
    "list_of_fruit.count('banana')\n",
    "print(list_of_fruit)\n",
    "\n",
    "list = [1,2,3,3,4,2,3,4,5,7,2,5,8,1,0]\n",
    "list.count(3)\n",
    "print(list)\n",
    "\n",
    "for e in set(list):\n",
    "    print(e, \"-->\", list.count(e))"
   ]
  },
  {
   "cell_type": "code",
   "execution_count": 30,
   "id": "fed2f5ea-117f-4e74-9663-7150bc1d65a1",
   "metadata": {},
   "outputs": [
    {
     "name": "stdout",
     "output_type": "stream",
     "text": [
      "['example', 'string', 'list']\n"
     ]
    }
   ],
   "source": [
    "from typing import List\n",
    "\n",
    "def copy() -> List[str]:\n",
    "    return [\"example\", \"string\", \"list\"]\n",
    "\n",
    "result = copy()\n",
    "print(result)\n"
   ]
  },
  {
   "cell_type": "code",
   "execution_count": 31,
   "id": "7dd1fa33-b570-44ed-a7de-699aefac4f16",
   "metadata": {},
   "outputs": [
    {
     "name": "stdout",
     "output_type": "stream",
     "text": [
      "[100, 200, 300, 400, 500, 600]\n"
     ]
    }
   ],
   "source": [
    "list_of_hundreds = [100, 200, 300, 400, 500, 600]\n",
    "list = list_of_hundreds.copy()\n",
    "print(list)\n"
   ]
  },
  {
   "cell_type": "code",
   "execution_count": 43,
   "id": "4e5d0710-55f8-4d6f-9835-ff0dabfa335f",
   "metadata": {},
   "outputs": [
    {
     "name": "stdout",
     "output_type": "stream",
     "text": [
      "[100, 300, 400, 500, 600]\n",
      "[100, 300, 400, 500, 600, 600]\n",
      "[[99, 6, 3], [4, 5, 6]]\n"
     ]
    }
   ],
   "source": [
    "list_of_hundreds = [100, 300, 400, 500, 600]\n",
    "list_of_adds = list_of_hundreds.copy()\n",
    "list_of_adds.append(600)\n",
    "print(list_of_hundreds)\n",
    "print(list_of_adds)\n",
    "\n",
    "\n",
    "\"\"\" when we change an exsting element of the main list , it Does not effect the shallow copy of the course list \"\"\"\n",
    "\n",
    "#Theree\n",
    "import copy\n",
    "a= [[2,6,3],[4,5,6]]\n",
    "b=copy.copy(a)\n",
    "b[0][0]=99\n",
    "print(b)"
   ]
  },
  {
   "cell_type": "code",
   "execution_count": 54,
   "id": "56974023-0ce9-4ae9-98cc-33b2e86fbe8d",
   "metadata": {},
   "outputs": [
    {
     "name": "stdout",
     "output_type": "stream",
     "text": [
      "[1, 2, 3, 4, 5, 6, 7, 8, 9, 10]\n",
      "[1, 2, 3, 4, 5, 6, 7, 8, 9, 10]\n"
     ]
    }
   ],
   "source": [
    "input_list = [1,2,3,4,5,6,7,8,9,10]\n",
    "print(input_list)\n",
    "def inset_v3(input_list):\n",
    "    empty_list=[]\n",
    "    empty_list2=[]\n",
    "    position = 2\n",
    "    value = 5\n",
    "\n",
    "    for idx, v in enumerate(input_list):\n",
    "        if idx >=position:\n",
    "            empty_list.append(V)\n",
    "        else:\n",
    "            empty_list = append(V)\n",
    "    return empty_list2 + empty_list \n",
    "result = insert_v3(input_list)\n",
    "print(result)\n"
   ]
  },
  {
   "cell_type": "code",
   "execution_count": 63,
   "id": "2d61eb12-b82f-476b-8b57-d7c09e318986",
   "metadata": {},
   "outputs": [
    {
     "name": "stdout",
     "output_type": "stream",
     "text": [
      "[1, 2, 3, 4]\n",
      "[1, 2, 3, 4]\n"
     ]
    }
   ],
   "source": [
    "input_list = [1,2,3,4]\n",
    "print(input_list)\n",
    "def inset_v3(p, Value ,input_list):\n",
    "    empty_list=[]\n",
    "    empty_list2=[]\n",
    "    position = 2\n",
    "    value = 5\n",
    "\n",
    "    for idx, v in enumerate(input_list):\n",
    "        if idx >=p:\n",
    "            empty_list.append(V)\n",
    "        else:\n",
    "            empty_list = append(V)\n",
    "    return empty_list2 + empty_list \n",
    "\n",
    "positon = 3\n",
    "value = 5\n",
    "result = insert_v3(input_list)\n",
    "print(result)\n"
   ]
  },
  {
   "cell_type": "code",
   "execution_count": 70,
   "id": "d74ffe89-0110-4fd0-a63b-02280dd061c8",
   "metadata": {},
   "outputs": [
    {
     "name": "stdout",
     "output_type": "stream",
     "text": [
      "Original List: [10, 30, 40, 60]\n",
      "Updated List: [10, 30, 25, 40, 60]\n"
     ]
    }
   ],
   "source": [
    "#input_list = [1, 2, 3, 4]\n",
    "\n",
    "# Change the input list and specify position and value\n",
    "input_list = [10, 30, 40,60]\n",
    "position = 2\n",
    "value = 25\n",
    "print(\"Original List:\", input_list)\n",
    "\n",
    "\n",
    "def insert_v3(p, value, input_list):\n",
    "    empty_list = []\n",
    "    for idx, v in enumerate(input_list):\n",
    "        if idx == p:\n",
    "            empty_list.append(value)  # Insert the value at the specified position\n",
    "        empty_list.append(v)  # Add the original element\n",
    "    return empty_list\n",
    "\n",
    "\n",
    "\n",
    "result = insert_v3(position, value, input_list)\n",
    "print(\"Updated List:\", result)\n"
   ]
  },
  {
   "cell_type": "code",
   "execution_count": 80,
   "id": "bc8cfaf5-6868-4a21-8d5a-b4fd7ebbbdd8",
   "metadata": {},
   "outputs": [
    {
     "name": "stdout",
     "output_type": "stream",
     "text": [
      "Updated List: [2, 3, 4, 20, 5, 6, 7, 8, 8, 9]\n"
     ]
    }
   ],
   "source": [
    "#from data_types_in_python import insert_v3  # Import the insert_v3 function\n",
    "\n",
    "position = 3  # Position where the value should be inserted\n",
    "value = 20  # Value to insert\n",
    "input_list = [2, 3, 4, 5, 6, 7, 8, 8, 9]  # Define the input list\n",
    "\n",
    "# Call the insert_v3 function\n",
    "result = insert_v3(position, value, input_list)\n",
    "\n",
    "# Print the result\n",
    "print(\"Updated List:\", result)\n"
   ]
  },
  {
   "cell_type": "code",
   "execution_count": 99,
   "id": "d9114ce4-acfa-4f0b-8465-23fe12cc56a4",
   "metadata": {},
   "outputs": [
    {
     "name": "stdout",
     "output_type": "stream",
     "text": [
      "1\n",
      "['some_value']\n",
      "3\n"
     ]
    }
   ],
   "source": [
    "list_of_fruits = [\"apple\", \"banana\", \"cherry\", \"banana\"]\n",
    "first_index = list_of_fruits.index(\"banana\")\n",
    "print(first_index)\n",
    "\n",
    "# Find the second occurrence of \"banana\"\n",
    "second_index = list_of_fruits.index(\"banana\", first_index + 1)\n",
    "\n",
    "# Create a list and append something to it\n",
    "my_list = []  # Use a different name to avoid using 'list'\n",
    "my_list.append(\"some_value\")  # You can append any value you like\n",
    "\n",
    "# Print the list and second index\n",
    "print(my_list)\n",
    "print(second_index)\n"
   ]
  },
  {
   "cell_type": "markdown",
   "id": "3b18250a-eb8f-4bba-843c-8088c18ce486",
   "metadata": {},
   "source": [
    "Dictionary :"
   ]
  },
  {
   "cell_type": "code",
   "execution_count": 104,
   "id": "47cd83b2-9377-4680-8d18-656ec04ce3cd",
   "metadata": {},
   "outputs": [
    {
     "name": "stdout",
     "output_type": "stream",
     "text": [
      "<class 'dict'>\n"
     ]
    }
   ],
   "source": [
    "\"\"\" Dictionary are used to store the values in key : value paris \n",
    "keu and it's value rea represend \"\"\"\n",
    "\n",
    "emp_data = {\"emp_id \": 101,\n",
    "            \"name\": \"Rathnakar\", \n",
    "            \"phone_numbers\" :[70321234345, 9440235316]}\n",
    "print(type(emp_data))"
   ]
  },
  {
   "cell_type": "code",
   "execution_count": 1,
   "id": "0571d05d-9b9c-42ba-9e5f-a706e3029cf0",
   "metadata": {},
   "outputs": [
    {
     "name": "stdout",
     "output_type": "stream",
     "text": [
      "<class 'dict'>\n",
      "<class 'dict'>\n",
      "<class 'dict'>\n"
     ]
    }
   ],
   "source": [
    "\"\"\" properties of the dict \n",
    "* used to store the multiple values in a dict object in python \n",
    "\"\"\"\n",
    "emp_data = {\"emp_id \": 101,\n",
    "            \"name\": \"Rathnakar\", \n",
    "            \"phone_numbers\" :[70321234345, 9440235316]}\n",
    "print(type(emp_data))\n",
    "\n",
    "\"\"\" Data valyes Pattern : \n",
    "Data values pattern should be key : value pair system \"\"\"\n",
    "\n",
    "\n",
    "\"\"\" It is orderd \n",
    "We have many versions of python right from it's inception the current 3.13 ...............\n",
    "it is set concept , it would be there until 3.7 libraries .\n",
    "\"\"\"\n",
    "emp_data = {\"emp_id \": 101,\n",
    "            \"name\": \"Rathnakar\", \n",
    "            \"phone_numbers\" :[70321234345, 9440235316]}\n",
    "print(type(emp_data))\n",
    "\n",
    "\n",
    "\"\"\" 4. changeble / mutable \n",
    "* Like list object in python, We can change the dictionary objects but there is limitation on part of dict mutability , put in a nutshell, we can not change the keys \n",
    "ONce they are created m but we can change the values of thr respective keys ....\n",
    "\"\"\"\n",
    "emp_data = {\"emp_id \": 101,\n",
    "            \"name\": \"Rathnakar\", \n",
    "            \"phone_numbers\" :[70321234345, 9440235316]}\n",
    "print(type(emp_data))\n",
    "\n",
    "\n",
    "\n"
   ]
  },
  {
   "cell_type": "code",
   "execution_count": 3,
   "id": "470d4230-e82f-4bb6-91f5-f8b61bf7d7ad",
   "metadata": {},
   "outputs": [
    {
     "data": {
      "text/plain": [
       "['__class__',\n",
       " '__class_getitem__',\n",
       " '__contains__',\n",
       " '__delattr__',\n",
       " '__delitem__',\n",
       " '__dir__',\n",
       " '__doc__',\n",
       " '__eq__',\n",
       " '__format__',\n",
       " '__ge__',\n",
       " '__getattribute__',\n",
       " '__getitem__',\n",
       " '__gt__',\n",
       " '__hash__',\n",
       " '__init__',\n",
       " '__init_subclass__',\n",
       " '__ior__',\n",
       " '__iter__',\n",
       " '__le__',\n",
       " '__len__',\n",
       " '__lt__',\n",
       " '__ne__',\n",
       " '__new__',\n",
       " '__or__',\n",
       " '__reduce__',\n",
       " '__reduce_ex__',\n",
       " '__repr__',\n",
       " '__reversed__',\n",
       " '__ror__',\n",
       " '__setattr__',\n",
       " '__setitem__',\n",
       " '__sizeof__',\n",
       " '__str__',\n",
       " '__subclasshook__',\n",
       " 'clear',\n",
       " 'copy',\n",
       " 'fromkeys',\n",
       " 'get',\n",
       " 'items',\n",
       " 'keys',\n",
       " 'pop',\n",
       " 'popitem',\n",
       " 'setdefault',\n",
       " 'update',\n",
       " 'values']"
      ]
     },
     "execution_count": 3,
     "metadata": {},
     "output_type": "execute_result"
    }
   ],
   "source": [
    "\"\"\" Dict in buit \"\"\"\n",
    "dir(emp_data)"
   ]
  },
  {
   "cell_type": "code",
   "execution_count": 18,
   "id": "1115cf1b-becc-420d-a9f6-08efd80a48ac",
   "metadata": {},
   "outputs": [
    {
     "name": "stdout",
     "output_type": "stream",
     "text": [
      "Keys: dict_keys(['emp_id ', 'name', 'phone_numbers'])\n",
      "Values: dict_values([101, 'Rathnakar', [70321234345, 9440235316]])\n",
      "Items: dict_items([('emp_id ', 101), ('name', 'Rathnakar'), ('phone_numbers', [70321234345, 9440235316])])\n"
     ]
    }
   ],
   "source": [
    "# Assuming emp_data is your dictionary\n",
    "keys = emp_data.keys()\n",
    "values = emp_data.values()\n",
    "items = emp_data.items()\n",
    "\n",
    "print(\"Keys:\", keys)\n",
    "print(\"Values:\", values)\n",
    "print(\"Items:\", items)\n",
    "\n",
    "\n",
    "\n"
   ]
  },
  {
   "cell_type": "code",
   "execution_count": 36,
   "id": "5b66b94a-8320-4b8e-852e-7bfa726e9217",
   "metadata": {},
   "outputs": [
    {
     "name": "stdout",
     "output_type": "stream",
     "text": [
      "Keys: dict_keys(['emp_id ', 'name', 'phone_numbers'])\n",
      "Values: dict_values([101, 'Rathnakar', [70321234345, 9440235316]])\n",
      "Items: dict_items([('emp_id ', 101), ('name', 'Rathnakar'), ('phone_numbers', [70321234345, 9440235316])])\n",
      "Type of items: <class 'dict_items'>\n",
      "First item: ('emp_id ', 101)\n",
      "Employee data for emp_id 101: None\n",
      "Rathnakar\n",
      "2000\n"
     ]
    }
   ],
   "source": [
    "\"\"\" Dict in build method \"\"\"\n",
    "''' A. Keys \n",
    "This method is used to get all the keys of the given dictionary\n",
    "\n",
    "Method of signature \n",
    "'''\n",
    "# Correctly defining the dictionary\n",
    "emp_data = {\"emp_id \": 101,\n",
    "            \"name\": \"Rathnakar\", \n",
    "            \"phone_numbers\" :[70321234345, 9440235316]}\n",
    "# Accessing keys\n",
    "keys = emp_data.keys()\n",
    "print(\"Keys:\", keys)\n",
    "\n",
    "# Accessing values\n",
    "values = emp_data.values()\n",
    "print(\"Values:\", values)\n",
    "\n",
    "# Accessing items\n",
    "items = emp_data.items()\n",
    "print(\"Items:\", items)\n",
    "\n",
    "# Checking the type of items\n",
    "result = type(items)\n",
    "print(\"Type of items:\", result)\n",
    "\n",
    "# Accessing the first item\n",
    "first_item = list(items)[0]  # Convert items to a list and get the first element\n",
    "print(\"First item:\", first_item)\n",
    "\n",
    "# Accessing employee data for a specific 'emp_id'\n",
    "emp_ids = emp_data.get(101)  # Get data for emp_id 101\n",
    "print(\"Employee data for emp_id 101:\", emp_ids)\n",
    "\n",
    "\n",
    "result2= emp_data['name']\n",
    "print(result2)\n",
    "\n",
    "\"\"\" Update\n",
    "it will add the new item at the end if the dict object \n",
    "\"\"\"\n",
    "result3= emp_data[\"salary\"] = 2000\n",
    "print(result3)\n",
    "\n",
    "\n",
    "# there is no possibility to change the dict using the index we can retrive the values\n"
   ]
  },
  {
   "cell_type": "code",
   "execution_count": 59,
   "id": "6835b840-ef7e-4b12-a0f9-fc09355c5bf6",
   "metadata": {},
   "outputs": [
    {
     "name": "stdout",
     "output_type": "stream",
     "text": [
      "('phone_numbers', [70321234345, 9440235316])\n",
      "Rathnakar\n",
      "101\n"
     ]
    }
   ],
   "source": [
    "# Example 1: popitem() - Removes the last key-value pair\n",
    "emp_data = {\"emp_id\": 101, \"name\": \"Rathnakar\", \"phone_numbers\": [70321234345, 9440235316]}\n",
    "r = emp_data.popitem()  # Pop the last key-value pair\n",
    "print(r)  # Output: ('phone_numbers', [70321234345, 9440235316])\n",
    "\n",
    "# Example 2: pop() - Removes a specific key\n",
    "emp_data = {\"emp_id\": 101, \"name\": \"Rathnakar\", \"phone_numbers\": [70321234345, 9440235316]}\n",
    "r = emp_data.pop(\"name\")  # Pop the \"name\" key\n",
    "print(r)  # Output: Rathnakar\n",
    "\n",
    "# Example 3: pop() with a default value for missing keys\n",
    "emp_data = {\"emp_id\": 101, \"name\": \"Rathnakar\", \"phone_numbers\": [70321234345, 9440235316]}\n",
    "r1 = emp_data.pop(\"emp_id\", 'There is no key named emp_id')  # Pop \"emp_id\", or return a default message if not found\n",
    "print(r1)  # Output: 101\n",
    "\n",
    "# Example 4: Error in original code (pop() without key is invalid)\n",
    "# r1 = emp_data.pop()  # This would raise a TypeError because pop() requires a key\n",
    "# we need to guev at least one parameter for it should  be exsting key to avoid an key errors "
   ]
  },
  {
   "cell_type": "code",
   "execution_count": 10,
   "id": "89b7bf44-c617-47b6-9f0a-037e222db971",
   "metadata": {},
   "outputs": [
    {
     "name": "stdout",
     "output_type": "stream",
     "text": [
      "no value \n",
      "{1.0: 100, 1.1: 100, 1.3: 100}\n"
     ]
    }
   ],
   "source": [
    "# set default \n",
    "\"\"\"\n",
    "set Default \n",
    "\n",
    "It actually searches for the key existance if the key is not in the dict given , then it will return default values provided through the set default methods \n",
    "when the key is not presented in the dict given it adds the key at the end of the dict and it asss the values against that key passed through the set default method \n",
    "if the key existed then it only teturns the values of the key passed through the set defalut methods \n",
    "\n",
    "\"\"\"\n",
    "car = {\n",
    "    \"brand\": \"ford\",\n",
    "    \"model\": \"mustang\",\n",
    "    \"year\": 1964\n",
    "}\n",
    "\n",
    "x = car.setdefault(\"car\", \"no value \")\n",
    "print(x)\n",
    "\n",
    "############# from keys \n",
    "keys = [1.0, 1.1, 1.3]\n",
    "default_value = 100\n",
    "float_dict = dict.fromkeys(keys, default_value)\n",
    "print(float_dict)\n",
    "\n"
   ]
  },
  {
   "cell_type": "raw",
   "id": "eaec704e-42ba-4ef7-a927-30b18a95a98b",
   "metadata": {},
   "source": [
    "about   SET in python \n",
    "it is unordered , unchageble and unindexed \n",
    "\n",
    "* multi values : yes \n",
    "* Duplication : No\n",
    "* mutability : no \n",
    "NOte : Set Items are uncgangeble , but you can remove items and add new items \n",
    "* indexing \n",
    "* ordered "
   ]
  },
  {
   "cell_type": "code",
   "execution_count": 14,
   "id": "131dc82c-12e6-484c-bc63-b4831a101f58",
   "metadata": {},
   "outputs": [
    {
     "name": "stdout",
     "output_type": "stream",
     "text": [
      "{'banana', ' Apple ', 'triangle'}\n"
     ]
    }
   ],
   "source": [
    "myset = {\" Apple \", \"banana\", \"triangle\"} # Fixed the missing quote for \"triangle\"\n",
    "myset = set(myset)  # Convert the tuple into a set\n",
    "print(myset)\n"
   ]
  },
  {
   "cell_type": "code",
   "execution_count": 26,
   "id": "e130fb41-4bb2-4c46-8229-317b23c4bda5",
   "metadata": {},
   "outputs": [
    {
     "name": "stdout",
     "output_type": "stream",
     "text": [
      "h\n",
      "e\n",
      "l\n",
      "l\n",
      "o\n",
      "1\n",
      "2\n",
      "3\n",
      "4\n",
      "5\n",
      "6\n",
      "7\n",
      "8\n",
      "1\n",
      "3\n",
      "4\n",
      "5\n",
      "6\n",
      "7\n",
      "8\n"
     ]
    }
   ],
   "source": []
  },
  {
   "cell_type": "code",
   "execution_count": 28,
   "id": "cd3cd768-960b-4d8f-b708-b8245d3c4276",
   "metadata": {},
   "outputs": [
    {
     "name": "stdout",
     "output_type": "stream",
     "text": [
      "{1: 100, 2: 100, 3: 100, 4: 100, 5: 100, 6: 100, 7: 100, 8: 100, 9: 100}\n",
      "1\n",
      "2\n",
      "3\n",
      "4\n",
      "5\n",
      "6\n",
      "7\n",
      "8\n",
      "9\n",
      "100\n",
      "100\n",
      "100\n",
      "100\n",
      "100\n",
      "100\n",
      "100\n",
      "100\n",
      "100\n",
      "1 100\n",
      "2 100\n",
      "3 100\n",
      "4 100\n",
      "5 100\n",
      "6 100\n",
      "7 100\n",
      "8 100\n",
      "9 100\n"
     ]
    }
   ],
   "source": []
  },
  {
   "cell_type": "code",
   "execution_count": null,
   "id": "cc5ad731-d64c-4d12-8873-730a8797544b",
   "metadata": {},
   "outputs": [],
   "source": []
  }
 ],
 "metadata": {
  "kernelspec": {
   "display_name": "Python 3 (ipykernel)",
   "language": "python",
   "name": "python3"
  },
  "language_info": {
   "codemirror_mode": {
    "name": "ipython",
    "version": 3
   },
   "file_extension": ".py",
   "mimetype": "text/x-python",
   "name": "python",
   "nbconvert_exporter": "python",
   "pygments_lexer": "ipython3",
   "version": "3.10.11"
  }
 },
 "nbformat": 4,
 "nbformat_minor": 5
}
