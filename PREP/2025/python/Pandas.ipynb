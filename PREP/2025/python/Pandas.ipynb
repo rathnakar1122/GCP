{
 "cells": [
  {
   "cell_type": "code",
   "execution_count": 4,
   "id": "f140f835-b234-4cc9-80c6-99084f2a896c",
   "metadata": {},
   "outputs": [
    {
     "name": "stdout",
     "output_type": "stream",
     "text": [
      "Parent Table:\n",
      "   CustomerID        Name  Age  Gender  PurchaseAmount\n",
      "0           1    John Doe   28    Male          150.75\n",
      "1           2  Jane Smith   34  Female          230.50\n",
      "\n",
      "Nested Table:\n",
      "   CustomerID         City                  Email\n",
      "0           1     New York    johndoe@example.com\n",
      "1           2  Los Angeles  janesmith@example.com\n"
     ]
    }
   ],
   "source": [
    "import pandas as pd\n",
    "\n",
    "# Stage table as a DataFrame\n",
    "data = {\n",
    "    \"CustomerID\": [1, 2],\n",
    "    \"Name\": [\"John Doe\", \"Jane Smith\"],\n",
    "    \"Age\": [28, 34],\n",
    "    \"Gender\": [\"Male\", \"Female\"],\n",
    "    \"City\": [\"New York\", \"Los Angeles\"],\n",
    "    \"Email\": [\"johndoe@example.com\", \"janesmith@example.com\"],\n",
    "    \"PurchaseAmount\": [150.75, 230.50],\n",
    "}\n",
    "df = pd.DataFrame(data)\n",
    "\n",
    "# Create Parent Table\n",
    "parent_table = df[[\"CustomerID\", \"Name\", \"Age\", \"Gender\", \"PurchaseAmount\"]]\n",
    "print(\"Parent Table:\")\n",
    "print(parent_table)\n",
    "\n",
    "# Create Nested/Child Table\n",
    "nested_table = df[[\"CustomerID\", \"City\", \"Email\"]]\n",
    "print(\"\\nNested Table:\")\n",
    "print(nested_table)\n"
   ]
  },
  {
   "cell_type": "code",
   "execution_count": 8,
   "id": "40934579-5c17-4c3e-bf05-a7d2d51dd93a",
   "metadata": {},
   "outputs": [
    {
     "name": "stdout",
     "output_type": "stream",
     "text": [
      "   CustomerID           Name  Age  Gender           City                     Email  PurchaseAmount\n",
      "0           1       John Doe   28    Male       New York       johndoe@example.com          150.75\n",
      "1           2     Jane Smith   34  Female    Los Angeles     janesmith@example.com          230.50\n",
      "2           3  Michael Brown   45    Male        Chicago  michaelbrown@example.com          125.00\n",
      "3           4    Emily Davis   23  Female        Houston    emilydavis@example.com          300.20\n",
      "4           5  Daniel Wilson   38    Male  San Francisco  danielwilson@example.com          275.35\n",
      "5           6   Sarah Miller   29  Female        Seattle   sarahmiller@example.com          190.00\n",
      "6           7  David Johnson   41    Male         Denver  davidjohnson@example.com          320.75\n",
      "7           8    Laura White   32  Female         Boston    laurawhite@example.com          215.80\n"
     ]
    }
   ],
   "source": [
    "\"\"\"\"\n",
    "PPP   -- AAA --- NNN -- DDD ---AAA --- SSS\n",
    "\"\"\"\n",
    "\"\"\" Pandas is a python library , pandas used to analyse the data \"\"\"\n",
    "\n",
    "# sample example \n",
    "import pandas as pd\n",
    "\n",
    "df = pd.read_csv(r'C:\\ENV\\PREP\\2025\\python\\data\\customer.csv')\n",
    "print(df.to_string())\n",
    "\n",
    "    "
   ]
  },
  {
   "cell_type": "code",
   "execution_count": 11,
   "id": "a9e82cb3-a9c9-4424-a4f7-5ec0f9dfab9b",
   "metadata": {},
   "outputs": [
    {
     "data": {
      "text/plain": [
       "' pandad allows to analyse big data and make conclusions based on statical throties \\npandas can clean messy data sets and make them readable and relevent \\nrelevent data is very importent in data science '"
      ]
     },
     "execution_count": 11,
     "metadata": {},
     "output_type": "execute_result"
    }
   ],
   "source": [
    "\"\"\" what is pandas\n",
    "\n",
    "* Pandas is a python library used for working with data sets \n",
    "* is has functions for analyzing, cleaning , exploring , and manipulating data \n",
    "the name pandas has reference to both \"panel Data\" and python \" python data analysis : and was created by wesmckinney in 2008\"\"\"\n",
    "\n",
    "\"\"\" pandad allows to analyse big data and make conclusions based on statical throties \n",
    "pandas can clean messy data sets and make them readable and relevent \n",
    "relevent data is very importent in data science \"\"\""
   ]
  },
  {
   "cell_type": "code",
   "execution_count": 18,
   "id": "31af3b50-e284-4495-ba12-23de0951afba",
   "metadata": {},
   "outputs": [
    {
     "name": "stdout",
     "output_type": "stream",
     "text": [
      "   cars   passings\n",
      "0    bmw         3\n",
      "1  volvo         7\n",
      "2   ford         2\n"
     ]
    }
   ],
   "source": [
    "import pandas as rt\n",
    "mydataset = {\n",
    "    'cars ' : [\"bmw\", \"volvo\",\"ford\"],\n",
    "    'passings' :[3,7,2]\n",
    "}\n",
    "myver = rt. DataFrame(mydataset)\n",
    "print(myver)"
   ]
  },
  {
   "cell_type": "code",
   "execution_count": 19,
   "id": "39727562-3cd2-4a46-b7d1-8170a641fb22",
   "metadata": {},
   "outputs": [
    {
     "name": "stdout",
     "output_type": "stream",
     "text": [
      "2.1.4\n"
     ]
    }
   ],
   "source": [
    "import pandas as pd\n",
    "print(pd.__version__)"
   ]
  },
  {
   "cell_type": "code",
   "execution_count": 26,
   "id": "70d44748-b427-49bb-85d2-bfb9bf427b6b",
   "metadata": {},
   "outputs": [
    {
     "name": "stdout",
     "output_type": "stream",
     "text": [
      "0    1\n",
      "1    7\n",
      "2    2\n",
      "dtype: int64\n",
      "1\n",
      "7\n"
     ]
    }
   ],
   "source": [
    "\"\"\" what is Series ?\n",
    "A pandas series is like a column in a table \n",
    "It is a One dimentioanl array hodling data of any type \"\"\"\n",
    "import pandas as pd\n",
    "a = [1,7,2]\n",
    "myver = pd.Series(a)\n",
    "print(myver)\n",
    "# Labels --> if nothing else is specified , the values are labeled with their index number , first value has index 0, second value has index 1 etc \n",
    "# the label can be used to accecc specified value \n",
    "print(myver[0])\n",
    "print(myver[1])"
   ]
  },
  {
   "cell_type": "code",
   "execution_count": null,
   "id": "4fa2d2dc-ef2b-41f0-8df9-490e602b4125",
   "metadata": {},
   "outputs": [],
   "source": []
  }
 ],
 "metadata": {
  "kernelspec": {
   "display_name": "Python 3 (ipykernel)",
   "language": "python",
   "name": "python3"
  },
  "language_info": {
   "codemirror_mode": {
    "name": "ipython",
    "version": 3
   },
   "file_extension": ".py",
   "mimetype": "text/x-python",
   "name": "python",
   "nbconvert_exporter": "python",
   "pygments_lexer": "ipython3",
   "version": "3.10.11"
  }
 },
 "nbformat": 4,
 "nbformat_minor": 5
}
