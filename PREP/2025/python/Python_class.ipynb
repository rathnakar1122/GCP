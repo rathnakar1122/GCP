{
 "cells": [
  {
   "cell_type": "markdown",
   "id": "fa8af6b3-c023-4853-8e9b-c89b105855f3",
   "metadata": {},
   "source": [
    "Python Variables"
   ]
  },
  {
   "cell_type": "code",
   "execution_count": 16,
   "id": "cb641545-0b1f-4bbb-ad55-c955012066ee",
   "metadata": {},
   "outputs": [
    {
     "name": "stdout",
     "output_type": "stream",
     "text": [
      "12\n",
      "2122864394832\n",
      "11\n",
      "2122864394800\n"
     ]
    }
   ],
   "source": [
    "age_of_raja = 12\n",
    "age_of_rani = 11\n",
    "\n",
    "print(age_of_raja)\n",
    "print(id(age_of_raja))  # Corrected to use the variable instead of hardcoding 12\n",
    "\n",
    "print(age_of_rani)\n",
    "print(id(age_of_rani))  # Corrected to use the variable instead of hardcoding 11"
   ]
  },
  {
   "cell_type": "code",
   "execution_count": 17,
   "id": "c5865d22-444c-4f32-b5a1-cbe39b76da47",
   "metadata": {},
   "outputs": [
    {
     "name": "stdout",
     "output_type": "stream",
     "text": [
      "<class 'int'>\n"
     ]
    }
   ],
   "source": [
    "# How to check the type of variable \n",
    "print(type(age_of_raja))"
   ]
  },
  {
   "cell_type": "code",
   "execution_count": 13,
   "id": "97e91ffd-fada-4339-aea5-f8693d1c9640",
   "metadata": {},
   "outputs": [
    {
     "name": "stdout",
     "output_type": "stream",
     "text": [
      "Both are in the different Location\n",
      "<class 'int'>\n"
     ]
    }
   ],
   "source": [
    "value1 = id(2.0)\n",
    "value2 = id(2.0)\n",
    "\n",
    "if value1 == value2:\n",
    "    print(\"Both are in the same Location\")\n",
    "else:\n",
    "    print(\"Both are in the different Location\")\n",
    "\n",
    "print(type(value1))  # Displaying the type of value1\n",
    "#print(value1+value2\n",
    "     "
   ]
  },
  {
   "cell_type": "code",
   "execution_count": 11,
   "id": "23d47b48-5e91-46a8-87e5-18a38856e4db",
   "metadata": {},
   "outputs": [],
   "source": [
    "# what is \"STR\"\n",
    "# STR\" stands for string \n",
    "# we represent a sequence of charecters "
   ]
  },
  {
   "cell_type": "code",
   "execution_count": 29,
   "id": "d2ae5748-17b2-45aa-9bcb-24379af5af22",
   "metadata": {},
   "outputs": [
    {
     "name": "stdout",
     "output_type": "stream",
     "text": [
      "<class 'int'>\n",
      "['__abs__', '__add__', '__and__', '__bool__', '__ceil__', '__class__', '__delattr__', '__dir__', '__divmod__', '__doc__', '__eq__', '__float__', '__floor__', '__floordiv__', '__format__', '__ge__', '__getattribute__', '__getnewargs__', '__gt__', '__hash__', '__index__', '__init__', '__init_subclass__', '__int__', '__invert__', '__le__', '__lshift__', '__lt__', '__mod__', '__mul__', '__ne__', '__neg__', '__new__', '__or__', '__pos__', '__pow__', '__radd__', '__rand__', '__rdivmod__', '__reduce__', '__reduce_ex__', '__repr__', '__rfloordiv__', '__rlshift__', '__rmod__', '__rmul__', '__ror__', '__round__', '__rpow__', '__rrshift__', '__rshift__', '__rsub__', '__rtruediv__', '__rxor__', '__setattr__', '__sizeof__', '__str__', '__sub__', '__subclasshook__', '__truediv__', '__trunc__', '__xor__', 'as_integer_ratio', 'bit_count', 'bit_length', 'conjugate', 'denominator', 'from_bytes', 'imag', 'numerator', 'real', 'to_bytes']\n",
      "13\n",
      "12\n",
      "['__abs__', '__add__', '__and__', '__bool__', '__ceil__', '__class__', '__delattr__', '__dir__', '__divmod__', '__doc__', '__eq__', '__float__', '__floor__', '__floordiv__', '__format__', '__ge__', '__getattribute__', '__getnewargs__', '__gt__', '__hash__', '__index__', '__init__', '__init_subclass__', '__int__', '__invert__', '__le__', '__lshift__', '__lt__', '__mod__', '__mul__', '__ne__', '__neg__', '__new__', '__or__', '__pos__', '__pow__', '__radd__', '__rand__', '__rdivmod__', '__reduce__', '__reduce_ex__', '__repr__', '__rfloordiv__', '__rlshift__', '__rmod__', '__rmul__', '__ror__', '__round__', '__rpow__', '__rrshift__', '__rshift__', '__rsub__', '__rtruediv__', '__rxor__', '__setattr__', '__sizeof__', '__str__', '__sub__', '__subclasshook__', '__truediv__', '__trunc__', '__xor__', 'as_integer_ratio', 'bit_count', 'bit_length', 'conjugate', 'denominator', 'from_bytes', 'imag', 'numerator', 'real', 'to_bytes']\n",
      "True\n",
      "12.0\n"
     ]
    }
   ],
   "source": [
    "\"\"\"functions or methods of Different python Datatypes\n",
    "int---> stands for integer Methods: \"\"\"\n",
    "\n",
    "# There is function called dir() listing the specific methods of given data types \n",
    "age = 12\n",
    "print(type(age))\n",
    "print(dir(age))# it prints the all the in - builts methods of int data types \n",
    "\n",
    "\"\"\"# basic mathematical operations : { the team who devloped the team include this methods \n",
    "1. categery : fundamental math operations [add, sub, into, devide]\n",
    "2. LOgical check operations : [ >< == !=]\n",
    "3. categrey : conversion ['__str__']\n",
    "\"\"\"\n",
    "\n",
    "\n",
    "current_age = 12  # Assign the value 12 to the variable 'current_age'\n",
    "\"\"\"when the python interperter executes the above line it will be added in the value in current_stage add by 1 and automatically by ptyhon using '___add__' dunder method \n",
    "this is also called as dunder methods\"\"\"\n",
    "age_in_next_year = current_age + 1  # Add 1 to 'current_age' to calculate next year's age\n",
    "\n",
    "# Print the calculated age in the next year\n",
    "print(age_in_next_year)\n",
    "\n",
    "# Print the current age\n",
    "print(current_age)\n",
    "\n",
    "# Print all the attributes and methods available for the type of 'current_age'\n",
    "print(dir(current_age))\n",
    "\n",
    "age_in_next_year = current_age >1\n",
    "print(age_in_next_year)\n",
    "print(float(age))  # converting int to float "
   ]
  },
  {
   "cell_type": "code",
   "execution_count": 50,
   "id": "c24b2c3b-6ed6-4a4f-88ed-bb63e28b76a7",
   "metadata": {},
   "outputs": [
    {
     "name": "stdout",
     "output_type": "stream",
     "text": [
      "0.6\n"
     ]
    }
   ],
   "source": [
    "\n",
    "def division(a, b):\n",
    "    return a / b\n",
    "\n",
    "a = 3\n",
    "b = 5\n",
    "print(division(a, b))\n"
   ]
  },
  {
   "cell_type": "code",
   "execution_count": 61,
   "id": "e9aaecc0-3362-4716-a1aa-4dca93acd581",
   "metadata": {},
   "outputs": [
    {
     "name": "stdout",
     "output_type": "stream",
     "text": [
      "raja\n",
      "['__add__', '__class__', '__contains__', '__delattr__', '__dir__', '__doc__', '__eq__', '__format__', '__ge__', '__getattribute__', '__getitem__', '__getnewargs__', '__gt__', '__hash__', '__init__', '__init_subclass__', '__iter__', '__le__', '__len__', '__lt__', '__mod__', '__mul__', '__ne__', '__new__', '__reduce__', '__reduce_ex__', '__repr__', '__rmod__', '__rmul__', '__setattr__', '__sizeof__', '__str__', '__subclasshook__', 'capitalize', 'casefold', 'center', 'count', 'encode', 'endswith', 'expandtabs', 'find', 'format', 'format_map', 'index', 'isalnum', 'isalpha', 'isascii', 'isdecimal', 'isdigit', 'isidentifier', 'islower', 'isnumeric', 'isprintable', 'isspace', 'istitle', 'isupper', 'join', 'ljust', 'lower', 'lstrip', 'maketrans', 'partition', 'removeprefix', 'removesuffix', 'replace', 'rfind', 'rindex', 'rjust', 'rpartition', 'rsplit', 'rstrip', 'split', 'splitlines', 'startswith', 'strip', 'swapcase', 'title', 'translate', 'upper', 'zfill']\n",
      "Khammampati Rathnakar \n"
     ]
    }
   ],
   "source": [
    "# string Variable declaraion \n",
    "name = \"raja\"\n",
    "print(name)\n",
    "# print of all build in operations \n",
    "\n",
    "print(dir(name))\n",
    "\"\"\"\n",
    "1.categery : fundamental math operaions \n",
    "\n",
    "add = Concatinaatioons\n",
    "first_name = \"Khammampati\"\n",
    "last_name = \"Rathnakar \"\n",
    "full_name = fist_name + last_name \n",
    "print(full_name) \"\"\"\n",
    "first_name = \"Khammampati\"\n",
    "spae = ' '\n",
    "last_name = \"Rathnakar \"\n",
    "full_name = first_name + spae  + last_name \n",
    "print(full_name)"
   ]
  },
  {
   "cell_type": "code",
   "execution_count": 24,
   "id": "98297b5f-8f11-47dc-af20-4e3a86ce60cc",
   "metadata": {},
   "outputs": [
    {
     "name": "stdout",
     "output_type": "stream",
     "text": [
      "Khammampati Rathnakar\n",
      "Khammampati rathnakar\n",
      "Khammampati Rathnakar \n",
      "khammampati rathnakar \n",
      "gmail\n",
      "       gmail        \n",
      "20\n",
      " Google cloud Data engineer, Google Cloud data engineer \n",
      "8\n",
      "4\n",
      "False\n",
      "True\n",
      "False\n",
      "True\n",
      "8\n",
      "36\n",
      "43\n",
      "-1\n",
      "8\n",
      "36\n",
      "43\n",
      "false\n"
     ]
    }
   ],
   "source": [
    "\"\"\" Manin methods of string objects \n",
    "47: methods \"\"\"\n",
    "\n",
    "\"\"\"All string methods \"\"\"\n",
    "\"\"\"1. Capitalize __python __ \"\"\"\n",
    "emp_name = \"Khammampati Rathnakar\"   # this method all the charecters in the given string except the fiest one \n",
    "print(emp_name)\n",
    "print(emp_name.capitalize())\n",
    "\n",
    "\"\"\" casefold \"\"\"\n",
    "emp_name2 = \"Khammampati Rathnakar \" # it convert all the charecters in the given string into lowercase\n",
    "print(emp_name2)\n",
    "print(emp_name2.casefold())\n",
    "\n",
    "\n",
    "\"\"\" 3.  Center   # It actually takes an space with specified charecters and it centers it gets the string centered within\n",
    "that space take allocated using center mthod \"\"\"\n",
    "emp_email_domain = \"gmail\"\n",
    "print(emp_email_domain)\n",
    "print(emp_email_domain.center(20))  #\n",
    "new_variable = emp_email_domain.center(20)\n",
    "print(len(new_variable))\n",
    "\n",
    "\n",
    "\"\"\" 4.Count  --> Count is the substring repetation count make it sentce it might exist or Doesn't exit\n",
    "It will be counting the numbers of charecters in a string \n",
    "\"\"\"\n",
    "\n",
    "name = \" Google cloud Data engineer, Google Cloud data engineer \"\n",
    "print(name)\n",
    "print(name.count(\"e\"))\n",
    "print(name.count(\"a\"))\n",
    "\n",
    "\n",
    "\"\"\"endswith   -->  if the given strings endswith 'substring' arguments provoded via ends with () method is equal or not is going to be chcked simply put it evolutes if \n",
    "the given string ends with the substring passed vis endswithd method \n",
    "\"\"\"\n",
    "\n",
    "name1= \"Google cloud Data engineering\"\n",
    "print(name1.endswith(\"neer\"))\n",
    "print(name1.endswith(\"neering\"))\n",
    "\n",
    "\n",
    "\n",
    "\"\"\" startsWith --> if the Given string startswith the substring 'substring' argument provided via startswith() method is equal or not in going to be checkd simply\n",
    "put , it evoluates if the given string startswith the substring passed via startswith () method.\n",
    "\"\"\"\n",
    "\n",
    "name2= \"Google cloud Data engineering \"\n",
    "print(name2.startswith(\"google\"))\n",
    "print(name2.startswith(\"Google\"))\n",
    "\n",
    "\n",
    "\n",
    "\"\"\" Find -->   it gives the index postion frm which the substring started ,. if thee are more than one substring that equals to the substring provided via\n",
    "the function calling , then it will consider the fiest occurence \n",
    "\n",
    "if the given argument is not presented in the taken string, then it returns -1.\n",
    "\"\"\"\n",
    "find_chec = \" Google cloud Data engineering with sampel string \"\n",
    "print(find_chec.find(\"cloud\"))\n",
    "print(find_chec.find(\"sampel\"))\n",
    "print(find_chec.find(\"string\"))\n",
    "print(find_chec.find(\"rathnakar\")) # if the given argument is not present in the taken string it returns -1, acually , it makes you able to add that given argumet at the end of the string taken\n",
    "\n",
    "\n",
    "\n",
    "\"\"\" INDEX -- > it's very importent \n",
    "--> it works like find()\n",
    "--> slight difference --> if the argument provided via index () is not present in the taken string then it thros the value errors - saying \n",
    "substring not found \n",
    "\"\"\"\n",
    "\n",
    "print(find_chec.index(\"cloud\"))\n",
    "print(find_chec.index(\"sampel\"))\n",
    "print(find_chec.index(\"string\"))\n",
    "\n",
    "\n",
    "\"\"\" isalpha ()\n",
    "\n",
    "\"\"\"\n",
    "customer_id = \"prm_123\"\n",
    "if customer_id.isalpha():\n",
    "    print(\"true\")\n",
    "else:\n",
    "    print(\"false\")\n"
   ]
  },
  {
   "cell_type": "code",
   "execution_count": 54,
   "id": "913634dc-5460-4f1a-a24f-064de743db83",
   "metadata": {},
   "outputs": [
    {
     "name": "stdout",
     "output_type": "stream",
     "text": [
      "Rathnakar  khammampati  He is from hyderabad\n",
      "gcp cloud data engineering\n",
      "out of the split result: ['gcp', 'cloud', 'data', 'engineering']\n",
      "GOOLE CLOUD DATA ENGINEERING\n",
      "rajaraja\n"
     ]
    },
    {
     "data": {
      "text/plain": [
       "' 15. ITer \\nIter is the one of the dunder method it comes with many python objets ,list , tuple and set , dict \\n'"
      ]
     },
     "execution_count": 54,
     "metadata": {},
     "output_type": "execute_result"
    }
   ],
   "source": [
    "\"\"\" 10.join()  --> We need to know the Iterable objets in python or string , list, tuple, set, dict\n",
    "\n",
    "\"\"\"\n",
    "\n",
    "Listen = [ \"Rathnakar \", \"khammampati \", \"He\", \"is\", \"from\", \"hyderabad\"]\n",
    "print(\" \".join(Listen))\n",
    "\n",
    "\"\"\" 11. Lower ()\n",
    "The guven string will be convereted into lowercase , means all letters in the string taken as string will be converted into lower case\n",
    "\"\"\"\n",
    "\"\"\" 12.Replace ()\n",
    "It is used to replace the substring the given string by the provided substring \n",
    "We Need to provide the or pass two arguments while the methods calling \n",
    "# ONce it for the replaced one it for it be replace \n",
    "\"\"\"\n",
    "name = 'gcp data engineering'\n",
    "print(name.replace('data', 'cloud data'))\n",
    "\n",
    "\"\"\" 13.Split ()\n",
    "-->  \n",
    "\"\"\"\n",
    "name1 = 'gcp cloud data engineering '\n",
    "result = name1.split()\n",
    "print(\"out of the split result:\", result) # base method - when you do not mention the separator , then it will by default take ' ' as the default separator \n",
    "\n",
    "\n",
    "\"\"\" tile . 14.\n",
    "all the charecetes om a given string methods \n",
    "\n",
    "\"\"\"\n",
    "name = \"goole cloud Data engineering\"\n",
    "print(name.upper())\n",
    "output = 'Google cloud data engineering '\n",
    "\n",
    "\"\"\"multipliction [mul]\n",
    "\"\"\"\n",
    "name = 'raja'\n",
    "result = name * 2\n",
    "print(result)\n",
    "#output = ' raja raja '\n",
    "\n",
    "\n",
    "\"\"\" __ne__\n",
    "\"\"\"\n",
    "name1= 'raja'\n",
    "name2 = 'roja'\n",
    "\n",
    "\n",
    "\n",
    "\"\"\" 15. ITer \n",
    "Iter is the one of the dunder method it comes with many python objets ,list , tuple and set , dict \n",
    "\"\"\"\n"
   ]
  },
  {
   "cell_type": "code",
   "execution_count": 25,
   "id": "9f70ba47-712b-4f62-a126-7ed4ae5d1786",
   "metadata": {},
   "outputs": [
    {
     "name": "stdout",
     "output_type": "stream",
     "text": [
      "there is no data with __rt__\n",
      "retail order\n"
     ]
    }
   ],
   "source": [
    "\"\"\" REAL TIME USE CASES \n",
    "thereis a table in biguery --named- orders \n",
    "orders table has got the columsn namesly - order_id, cust_id, order_type,, status \n",
    "of the table _type is \"rt\" fetch thoese orders \n",
    "rt-retail order , co - commercial orders \n",
    "ex: er_expen-crd\n",
    "ex: et-expen-crd, co_expen-crd, d-rt-ecpen-crd \"\"\"\n",
    "order_type1 = 'tr-expen-crd'\n",
    "order_type2 = 'rt-expen-crd'\n",
    "\n",
    "if order_type1.startswith(\"rt\"):\n",
    "    print(\"retail order\")\n",
    "else:\n",
    "    print(\"there is no data with __rt__\")\n",
    "\n",
    "if order_type2.startswith(\"rt\"):  # Corrected variable name\n",
    "    print(\"retail order\")\n"
   ]
  },
  {
   "cell_type": "code",
   "execution_count": 42,
   "id": "b2d83977-c57b-4954-b9cb-d15484b087e8",
   "metadata": {},
   "outputs": [
    {
     "name": "stdout",
     "output_type": "stream",
     "text": [
      "Distinct domains: {'gmail.com'}\n"
     ]
    }
   ],
   "source": [
    "# real time use cases :\n",
    "\"\"\"tabke : customer \n",
    "cust_id, name, email_id,\n",
    "101, raja, rathnakar@gmail.com\n",
    "102, manas, abc@gmail.com\n",
    "103,raj_kumar, manas_@gmail.com\n",
    "\"\"\"\n",
    "#PLeas List out the distinct domain names from the above table \n",
    "# Sample table data\n",
    "customer_table = [\n",
    "    {'cust_id': 101, 'name': 'raja', 'email_id': 'rathnakar@gmail.com'},\n",
    "    {'cust_id': 102, 'name': 'manas', 'email_id': 'abc@gmail.com'},\n",
    "    {'cust_id': 103, 'name': 'raj_kumar', 'email_id': 'manas_@gmail.com'}\n",
    "]\n",
    "\n",
    "# Extracting distinct domain names\n",
    "distinct_domains = set(email['email_id'].split('@')[1] for email in customer_table)\n",
    "print(\"Distinct domains:\", distinct_domains)\n"
   ]
  },
  {
   "cell_type": "code",
   "execution_count": 55,
   "id": "160f4aa9-b386-417c-a981-13afe384b096",
   "metadata": {},
   "outputs": [],
   "source": [
    "#5. Constructing a list objects\n",
    "\n",
    "#creating a empty list \n",
    "empty_list = []\n",
    "# creating a list with elements \n",
    "list = [1,2,'raja']\n",
    "# using a list constructure \n",
    "list_constructure = list()\n",
    "\n",
    "#conversations list \n",
    " #we can create convert tauple and list in python \n",
    "list_constructue = list()\n",
    "\n",
    "# conver"
   ]
  },
  {
   "cell_type": "code",
   "execution_count": null,
   "id": "d19e0fa4-ff1b-4a64-b26f-485108c8e16a",
   "metadata": {},
   "outputs": [],
   "source": []
  },
  {
   "cell_type": "code",
   "execution_count": null,
   "id": "ccad923e-1c0c-48f6-b33c-5c871627bb7a",
   "metadata": {},
   "outputs": [],
   "source": [
    "    "
   ]
  }
 ],
 "metadata": {
  "kernelspec": {
   "display_name": "Python 3 (ipykernel)",
   "language": "python",
   "name": "python3"
  },
  "language_info": {
   "codemirror_mode": {
    "name": "ipython",
    "version": 3
   },
   "file_extension": ".py",
   "mimetype": "text/x-python",
   "name": "python",
   "nbconvert_exporter": "python",
   "pygments_lexer": "ipython3",
   "version": "3.10.11"
  }
 },
 "nbformat": 4,
 "nbformat_minor": 5
}
