{
 "cells": [
  {
   "cell_type": "raw",
   "id": "39918f7b-e7ff-4cdb-870f-0caba77a853b",
   "metadata": {},
   "source": [
    "IF STATEMENT:"
   ]
  },
  {
   "cell_type": "code",
   "execution_count": 8,
   "id": "63191916-bd93-4974-9e11-4b6cac69bba9",
   "metadata": {},
   "outputs": [
    {
     "data": {
      "text/plain": [
       "'syntex\\nif<statement>:\\n    block of this code '"
      ]
     },
     "execution_count": 8,
     "metadata": {},
     "output_type": "execute_result"
    }
   ],
   "source": [
    "\"\"\"syntex\n",
    "if<statement>:\n",
    "    block of this code \"\"\""
   ]
  },
  {
   "cell_type": "code",
   "execution_count": 9,
   "id": "b69fae63-1464-4656-be3c-8db67c293a8e",
   "metadata": {},
   "outputs": [
    {
     "name": "stdout",
     "output_type": "stream",
     "text": [
      "it is the python steing data types:\n"
     ]
    }
   ],
   "source": [
    "\"\"\" checking the desired data types using type() function :\"\"\"\n",
    "var=\"raja\"\n",
    "if type(var) ==str:\n",
    "    print(\"it is the python steing data types:\")"
   ]
  },
  {
   "cell_type": "code",
   "execution_count": 10,
   "id": "ff837a4e-0ad9-4baf-bbbe-285886b0361e",
   "metadata": {},
   "outputs": [
    {
     "name": "stdout",
     "output_type": "stream",
     "text": [
      "it is python string data types:\n"
     ]
    }
   ],
   "source": [
    "var = 'raja'\n",
    "if isinstance (var, str):\n",
    "    print(\"it is python string data types:\")"
   ]
  },
  {
   "cell_type": "code",
   "execution_count": 11,
   "id": "6b89d72c-268b-4426-bc5f-602c4323239d",
   "metadata": {},
   "outputs": [
    {
     "name": "stdout",
     "output_type": "stream",
     "text": [
      "h\n",
      "e\n",
      "l\n",
      "l\n",
      "o\n",
      "1\n",
      "2\n",
      "3\n",
      "4\n",
      "5\n",
      "6\n",
      "7\n",
      "8\n",
      "1\n",
      "3\n",
      "4\n",
      "5\n",
      "6\n",
      "7\n",
      "8\n"
     ]
    }
   ],
   "source": [
    "\"\"\"\n",
    "FOr loop \n",
    "\"\"\"\n",
    "name = \"hello\"\n",
    "for char in name:\n",
    "    print(char)\n",
    "\n",
    "list = [1,2,3,4,5,6,7,8] # elemt=nets and item\n",
    "for i in list:\n",
    "    print(i)\n",
    "\n",
    "new1 = []  # Make sure you initialize the list\n",
    "for i in list:  # Replace 'list' with 'my_list' (or any variable that stores your list)\n",
    "    new1.append({})  # Appending an empty dictionary to 'new1'\n",
    "    if i == 2:\n",
    "        new1.append(i + 1)  # Append (i + 1) to 'new1' if i is 2\n",
    "    else:\n",
    "        print(i)  # Print the current value of 'i'\n"
   ]
  },
  {
   "cell_type": "code",
   "execution_count": 16,
   "id": "fdb3e36d-e6f1-4252-b38b-939dddd66ab9",
   "metadata": {},
   "outputs": [
    {
     "name": "stdout",
     "output_type": "stream",
     "text": [
      "{1: 100, 2: 100, 3: 100, 4: 100, 5: 100, 6: 100, 7: 100, 8: 100, 9: 100}\n",
      "1\n",
      "2\n",
      "3\n",
      "4\n",
      "5\n",
      "6\n",
      "7\n",
      "8\n",
      "9\n",
      "100\n",
      "100\n",
      "100\n",
      "100\n",
      "100\n",
      "100\n",
      "100\n",
      "100\n",
      "100\n",
      "1 100\n",
      "2 100\n",
      "3 100\n",
      "4 100\n",
      "5 100\n",
      "6 100\n",
      "7 100\n",
      "8 100\n",
      "9 100\n"
     ]
    }
   ],
   "source": [
    "\"\"\" when we are trying to run the LOOP function in Iterable objects \"\"\"\n",
    "keys = (1,2,3,4,5,6,7,8,9)\n",
    "default_values = 100\n",
    "\n",
    "new_dict = dict.fromkeys(keys,default_values)\n",
    "print(new_dict)\n",
    "\n",
    "for k in new_dict.keys():\n",
    "    print(k)\n",
    "for v in new_dict.values():\n",
    "    print(v)\n",
    "for k,v in new_dict.items():\n",
    "    print(k,v) "
   ]
  },
  {
   "cell_type": "code",
   "execution_count": 14,
   "id": "20420011-2882-4044-8632-3aeeff0dfc47",
   "metadata": {},
   "outputs": [
    {
     "data": {
      "text/plain": [
       "'\\nCONTROL - FLOW STATEMENTS IN PYTHON::\\n======================================\\n\\n'"
      ]
     },
     "execution_count": 14,
     "metadata": {},
     "output_type": "execute_result"
    }
   ],
   "source": [
    "\"\"\"\n",
    "CONTROL - FLOW STATEMENTS IN PYTHON::\n",
    "======================================\n",
    "\n",
    "\"\"\""
   ]
  },
  {
   "cell_type": "code",
   "execution_count": 36,
   "id": "9b57e47a-a581-44a1-b97b-8e4b6c958b06",
   "metadata": {},
   "outputs": [
    {
     "name": "stdout",
     "output_type": "stream",
     "text": [
      "It's a Python string data type\n",
      "is it integer data type\n",
      "It is one hundred and one\n",
      " the above variable is not an instance of string data type in python\n"
     ]
    }
   ],
   "source": [
    "\"\"\"IF STATEMENT \"\"\"\n",
    "#checking desigred data types using type() function:\n",
    "\"\"\" cheking desired  data types using type() function \"\"\"\n",
    "\n",
    "var = 'raja'\n",
    "if type(var) == str:\n",
    "    print(\"It's a Python string data type\")\n",
    "# this statemet will not work due to the return value is not equal to string \n",
    "\n",
    "\"\"\" python isINSTANCE() function:\n",
    "\n",
    "the isinstcane () function true if the specified object is of the specified type , otherwise false . \"\"\"\n",
    "if isinstance(var, str):\n",
    "    print(\"is it integer data type\")\n",
    "\n",
    "\"\"\" how we can do mathematical way\n",
    "if the given value in a variable is equal 10, it should print ' it is ten' \"\"\"\n",
    "var = 101\n",
    "if var == 101:\n",
    "    print(\"It is one hundred and one\")\n",
    "\n",
    "\"\"\" IF ---- ELSE ---- STATEMENT :\n",
    "-------------------------------- \n",
    "if the given value is varuable is string then it should print properties , if not is should prinnt something like, it is not string data type. \"\"\"\n",
    "var = 123\n",
    "if isinstance(var, str):\n",
    "    print('string is the one of the iterable object from python')\n",
    "    print('it has 47 in built function')\n",
    "else:\n",
    "    print(' the above variable is not an instance of string data type in python')\n"
   ]
  },
  {
   "cell_type": "code",
   "execution_count": 41,
   "id": "ff921fa8-e285-4755-8fb5-c5e7da4ff8a0",
   "metadata": {},
   "outputs": [],
   "source": [
    "\"\"\" IF ---- elif---ELSE ---- STATEMENT :\"\"\"\n",
    "\n",
    "\"\"\"elif function in python \"\"\"\n",
    "\"\"\"Please print the instance of the variable using python if else control statements \"\"\"\n",
    "var = '123'\n",
    "if isinstance (var, int):\n",
    "    print(\"it is int data type\")\n",
    "elif isinstance (var, int):\n",
    "    print(\"it is string data type\")\n",
    "elif isinstance (var, float):\n",
    "    print(\"is is float data type\")"
   ]
  },
  {
   "cell_type": "raw",
   "id": "a9ca112f-77f1-46e8-bd75-5cee51a9dc62",
   "metadata": {},
   "source": [
    "For look with else statement :"
   ]
  },
  {
   "cell_type": "code",
   "execution_count": 16,
   "id": "b43b0e2c-9749-42b3-b36b-4818831cc701",
   "metadata": {},
   "outputs": [
    {
     "name": "stdout",
     "output_type": "stream",
     "text": [
      "1\n",
      "2\n",
      "3\n",
      "4\n"
     ]
    }
   ],
   "source": [
    "\"\"\"\n",
    "if and only when the for loop does not hit the break statement , it executes the else part:\n",
    "\"\"\"\n",
    "for x in [1, 2, 3, 4, 5, 6, 7]:\n",
    "    if x > 3:\n",
    "        print(x)\n",
    "        break  # Skip values greater than 3\n",
    "    print(x)\n",
    "else:\n",
    "    print(\"it printed the items from the list up to {0}\".format(x))\n"
   ]
  },
  {
   "cell_type": "code",
   "execution_count": 17,
   "id": "f17ddb62-8f95-4a1d-a5ee-31d2e103a582",
   "metadata": {},
   "outputs": [
    {
     "name": "stdout",
     "output_type": "stream",
     "text": [
      "1\n",
      "2\n",
      "3\n",
      "4\n",
      "5\n",
      "6\n",
      "7\n",
      " it printed the items from the lisut upto 7\n"
     ]
    }
   ],
   "source": [
    "\"\"\" it executes the else part in for loop as it is not terminated via break statement \"\"\"\n",
    "for x in [1, 2, 3, 4, 5, 6, 7]:\n",
    "    if x >= 0:\n",
    "        print(x)\n",
    "    else:\n",
    "        break\n",
    "else:\n",
    "    print(\" it printed the items from the lisut upto {0}\".format(x))"
   ]
  },
  {
   "cell_type": "code",
   "execution_count": 20,
   "id": "9ecda231-f5f1-4159-b2ee-c05e1a8c6c09",
   "metadata": {},
   "outputs": [
    {
     "name": "stdout",
     "output_type": "stream",
     "text": [
      "eve was not found\n"
     ]
    }
   ],
   "source": [
    "\"\"\" the following example illustatues the else part execution in for loop whe it ilustared on all elements for that iterable object to the last item \"\"\"\n",
    "#Loop without break statement \n",
    "\"\"\" example 4\"\"\"\n",
    "names = [\"alice\", \"bob\", \"charlie\"]\n",
    "for i in names:\n",
    "    if i == \"eve\":  # Correct variable\n",
    "        print(\"found eve!\")\n",
    "        break\n",
    "else:\n",
    "    print(\"eve was not found\")\n"
   ]
  },
  {
   "cell_type": "code",
   "execution_count": 33,
   "id": "c8f6556e-1224-40bf-8d74-8c18f518f9d3",
   "metadata": {},
   "outputs": [
    {
     "name": "stdout",
     "output_type": "stream",
     "text": [
      "0\n",
      "1\n",
      "2\n"
     ]
    }
   ],
   "source": [
    "\"\"\"\n",
    "FOr LOOP in for LOOPS \n",
    "\"\"\"\n",
    "numbers = [3] #list \n",
    "for number in numbers :\n",
    "    #range fundion index start from 0\n",
    "    for n  in range(number):\n",
    "        print(n)\n",
    "  "
   ]
  },
  {
   "cell_type": "code",
   "execution_count": 43,
   "id": "54c40202-149a-44e2-9ae5-0ebf55528169",
   "metadata": {},
   "outputs": [
    {
     "name": "stdout",
     "output_type": "stream",
     "text": [
      "1\n",
      "2\n",
      "3\n",
      "it printed the items from the list upto 5\n",
      "Bob is found\n"
     ]
    }
   ],
   "source": [
    "# the example : The following example illustarests the else part execution in for loop when it is iterated on alle elements \n",
    "# for that Iterable objets to the last item \n",
    "for x in [1,2,3,4,5]:\n",
    "    if x<=3:\n",
    "        print(x)\n",
    "    else:\n",
    "        continue \n",
    "else:\n",
    "    print(\"it printed the items from the list upto {0}\".format(x))\n",
    "\n",
    "# example 4: \n",
    "names = [\"alice\", \"bob\", \"charle\"]\n",
    "\n",
    "for name in names:\n",
    "    if name == \"bob\":\n",
    "        print(\"Bob is found\")\n",
    "        break\n",
    "else:\n",
    "    print(\"Bob is not found\")\n",
    "\n",
    "#*****************************************\n",
    "# **************************************\n"
   ]
  },
  {
   "cell_type": "code",
   "execution_count": 42,
   "id": "c2f15065-0caf-401e-86f0-ad7a1f6884d3",
   "metadata": {},
   "outputs": [
    {
     "name": "stdout",
     "output_type": "stream",
     "text": [
      "Outer: 1, Inner: a\n",
      "Outer: 1, Inner: b\n",
      "Outer: 1, Inner: c\n",
      "Outer: 2, Inner: a\n",
      "Outer: 2, Inner: b\n",
      "Outer: 2, Inner: c\n",
      "Outer: 3, Inner: a\n",
      "Outer: 3, Inner: b\n",
      "Outer: 3, Inner: c\n",
      "1\n",
      "2\n",
      "3\n",
      "4\n",
      "5\n",
      "6\n",
      "7\n",
      "8\n"
     ]
    }
   ],
   "source": [
    "outer_iterable = [1, 2, 3]\n",
    "inner_iterable = ['a', 'b', 'c']\n",
    "\n",
    "for outer_item in outer_iterable:\n",
    "    for inner_item in inner_iterable:\n",
    "        print(f\"Outer: {outer_item}, Inner: {inner_item}\")\n",
    "\n",
    "numbers = [1, 2, 3, 4, 5, 6, 7, 8]\n",
    "for num in numbers:\n",
    "    print(num)\n"
   ]
  },
  {
   "cell_type": "code",
   "execution_count": 47,
   "id": "69092b70-e9cc-4bf0-91f7-82284e129e7e",
   "metadata": {},
   "outputs": [
    {
     "name": "stdout",
     "output_type": "stream",
     "text": [
      "[0, 1, 2]\n",
      "0\n",
      "1\n",
      "2\n",
      "0\n",
      "1\n",
      "2\n",
      "3\n",
      "4\n"
     ]
    }
   ],
   "source": [
    "num = 3\n",
    "idx_range = range(num)\n",
    "print(list(idx_range))  # Convert to list for better readability in print\n",
    "\n",
    "for i in idx_range:  # Added \"in\" to the for loop\n",
    "    print(i)  # Indented properly\n",
    "for i in range(5):\n",
    "    print(i)\n",
    "\n"
   ]
  },
  {
   "cell_type": "code",
   "execution_count": 54,
   "id": "21060e12-d983-4a5c-bd46-b879b69f3c43",
   "metadata": {},
   "outputs": [
    {
     "name": "stdout",
     "output_type": "stream",
     "text": [
      "1\n",
      "0\n",
      "2\n",
      "0\n",
      "1\n",
      "3\n",
      "0\n",
      "1\n",
      "2\n"
     ]
    }
   ],
   "source": [
    "numbers = [1,2,3]\n",
    "for num in numbers:\n",
    "    print(num)\n",
    "    for idx in range(num):\n",
    "        print(idx)"
   ]
  },
  {
   "cell_type": "code",
   "execution_count": 53,
   "id": "07007e74-b9ba-451e-a27f-cdcf08227885",
   "metadata": {},
   "outputs": [
    {
     "name": "stdout",
     "output_type": "stream",
     "text": [
      "0\n",
      "1\n",
      "2\n"
     ]
    }
   ],
   "source": [
    "for i in range(num):\n",
    "    print(i)"
   ]
  },
  {
   "cell_type": "code",
   "execution_count": 68,
   "id": "579264e2-44fa-4f72-81e8-73b8221af99e",
   "metadata": {},
   "outputs": [
    {
     "name": "stdout",
     "output_type": "stream",
     "text": [
      "*\n",
      "*\n",
      "*\n",
      "*\n",
      "*\n",
      "*\n",
      "* * * * * * "
     ]
    }
   ],
   "source": [
    "\n",
    "\"\"\" Start pattern printing \"\"\"\n",
    "numbers = [1,2,3]\n",
    "for num in numbers :\n",
    "    for inx in range(num):\n",
    "        print(\"*\")\n",
    "\n",
    "        \n",
    "\"\"\"programe two\"\"\"\n",
    "for num in numbers:\n",
    "    for idx in range(num):\n",
    "        print(\"*\", end=\" \")"
   ]
  },
  {
   "cell_type": "code",
   "execution_count": 86,
   "id": "f7f60ce0-7a62-49f0-b664-7f048f41ef41",
   "metadata": {},
   "outputs": [
    {
     "name": "stdout",
     "output_type": "stream",
     "text": [
      "3  is the bigger one\n",
      "3  is the bigger one\n",
      "5\n",
      "number three is bigger :5\n",
      "None\n"
     ]
    }
   ],
   "source": [
    "\"\"\"Ternorny Operator \n",
    "\n",
    "writing IF statement in single operator \"\"\"\n",
    "\"\"\"Python is shorthand way to write an if else conditional expression is a single line it is also known as conditonal expression \"\"\"\n",
    "\"\"\" which is bigger \"\"\"\n",
    "num1 = 2\n",
    "num2 = 3\n",
    "num3 = 5\n",
    "if num1 > num2:\n",
    "    print(num1,'is the bigger one')\n",
    "else:\n",
    "    print(num2, ' is the bigger one')\n",
    "\n",
    "\n",
    "\"\"\"\" ternonry method \"\"\"\n",
    "print(num1, 'is the bigger one ' ) if num1>num2 else print(num2, ' is the bigger one')\n",
    "\n",
    "num1 = 2\n",
    "num2 = 3\n",
    "num3 = 5\n",
    "# whihc one is bigger \n",
    "print(num1) if num1 > num2 and num1 > num3 else print(num2 if num2 >num3 else num3)\n",
    "# adding comments \n",
    "print(f\"number one is bigger : {num1} \") if num1 > num2 and num1 > num3 else print(f\" number 2 is bigger :{num2}\" if num2 > num3 else \n",
    "                                                                                   print(f\"number three is bigger :{num3}\"))\n"
   ]
  },
  {
   "cell_type": "code",
   "execution_count": 92,
   "id": "c6cb703b-cf50-4dfb-8456-3c5e8493fd4e",
   "metadata": {},
   "outputs": [
    {
     "name": "stdout",
     "output_type": "stream",
     "text": [
      "[1, 3, 5, 7]\n",
      "[1, 3, 5, 7]\n"
     ]
    }
   ],
   "source": [
    "input_list = [1,2,3,4,5,6,7,8]\n",
    "output = []\n",
    "for num in input_list:\n",
    "    if num%2 !=0:\n",
    "        output.append(num)\n",
    "print(output)\n",
    "\n",
    "output = [num for num in input_list if num % 2 != 0]\n",
    "print(output)"
   ]
  },
  {
   "cell_type": "code",
   "execution_count": 107,
   "id": "042ed6f1-1d9f-4ef1-9502-6bad9d329d37",
   "metadata": {},
   "outputs": [
    {
     "name": "stdout",
     "output_type": "stream",
     "text": [
      "1\n",
      "1 2\n",
      "3\n",
      "3 1\n",
      "4\n",
      "4 1\n",
      "5\n",
      "5 1\n",
      "6\n",
      "6 1\n",
      "7\n",
      "7 1\n",
      "8\n",
      "8 1\n",
      "9\n",
      "9 1\n",
      "10\n",
      "10 1\n",
      "[]\n"
     ]
    }
   ],
   "source": [
    "\"\"\" question number 2 \"\"\"\n",
    "input_list = [ 1,1,3,4,5,6,7,8,9,10]\n",
    "#output_list = [(1,2),(1,1),(3,1)\n",
    "#nave method \n",
    "out_put = []\n",
    "for num in set(input_list):\n",
    "    #if num not in seen:\n",
    "        print(num)\n",
    "        cnt = input_list.count(num)\n",
    "        print(num, cnt)\n",
    "        output.append((num, cnt))\n",
    "print(out_put)"
   ]
  },
  {
   "cell_type": "code",
   "execution_count": 108,
   "id": "fab77a43-41fb-4b88-8de2-f77c50eacf1c",
   "metadata": {},
   "outputs": [
    {
     "name": "stdout",
     "output_type": "stream",
     "text": [
      "[]\n"
     ]
    }
   ],
   "source": [
    "\"\"\" question number 2 \"\"\"\n",
    "input_list = [ 1,1,3,4,5,6,7,8,9,10]\n",
    "#output_list = [(1,1),(2,2),(3,3)\n",
    "#nave method \n",
    "out_put = []\n",
    "for num in input_list:\n",
    "    #print(num)\n",
    "    cnt = input_list.count(num)\n",
    "    #print(num, cnt)\n",
    "    output.append((num, cnt))\n",
    "print(out_put)"
   ]
  },
  {
   "cell_type": "code",
   "execution_count": 109,
   "id": "444e48cf-7246-4951-8cf0-fa5d6285c6ea",
   "metadata": {},
   "outputs": [
    {
     "name": "stdout",
     "output_type": "stream",
     "text": [
      "[(1, 2), (3, 1), (4, 1), (5, 1), (6, 1), (7, 1), (8, 1), (9, 1), (10, 1)]\n"
     ]
    }
   ],
   "source": [
    "input_list = [1, 1, 3, 4, 5, 6, 7, 8, 9, 10]\n",
    "output_list = []\n",
    "\n",
    "# Use a set to track unique numbers\n",
    "seen = set()\n",
    "\n",
    "for num in input_list:\n",
    "    if num not in seen:\n",
    "        cnt = input_list.count(num)\n",
    "        output_list.append((num, cnt))\n",
    "        seen.add(num)\n",
    "\n",
    "print(output_list)\n"
   ]
  },
  {
   "cell_type": "code",
   "execution_count": 110,
   "id": "198c4d99-942b-41f8-a03f-d105e1c81168",
   "metadata": {},
   "outputs": [
    {
     "name": "stdout",
     "output_type": "stream",
     "text": [
      "[(1, 2), (3, 1), (4, 1), (5, 1), (6, 1), (7, 1), (8, 1), (9, 1), (10, 1)]\n"
     ]
    }
   ],
   "source": [
    "input_list = [1, 1, 3, 4, 5, 6, 7, 8, 9, 10]\n",
    "output_list = []\n",
    "\n",
    "for num in input_list:\n",
    "    if not any(x[0] == num for x in output_list):  # Check if num is already in output_list\n",
    "        cnt = input_list.count(num)\n",
    "        output_list.append((num, cnt))\n",
    "\n",
    "print(output_list)\n"
   ]
  },
  {
   "cell_type": "code",
   "execution_count": 49,
   "id": "5027d3d1-fa26-44e0-a6ab-28b1c28c8f4e",
   "metadata": {},
   "outputs": [
    {
     "name": "stdout",
     "output_type": "stream",
     "text": [
      "[(1, 2), (3, 1), (4, 1), (5, 1), (6, 1), (7, 1), (8, 1), (9, 1), (10, 1)]\n"
     ]
    }
   ],
   "source": [
    "input_list = [1, 1, 3, 4, 5, 6, 7, 8, 9, 10]\n",
    "\n",
    "output = [(num, input_list.count(num)) for num in set(input_list)]\n",
    "print(output)\n"
   ]
  },
  {
   "cell_type": "code",
   "execution_count": 50,
   "id": "c30c4195-f5c1-4275-86bf-758ec8a6b825",
   "metadata": {},
   "outputs": [
    {
     "name": "stdout",
     "output_type": "stream",
     "text": [
      "[(1, 2), (3, 1), (4, 1), (5, 1), (6, 1), (7, 1), (8, 1), (9, 1), (10, 1)]\n"
     ]
    }
   ],
   "source": [
    "out_put =[ (num, input_list.count(num)) for num in set(input_list)]\n",
    "print(out_put)"
   ]
  },
  {
   "cell_type": "code",
   "execution_count": 51,
   "id": "aad0e840-fca9-4df5-8948-9bbf3b617cf6",
   "metadata": {},
   "outputs": [
    {
     "name": "stdout",
     "output_type": "stream",
     "text": [
      "[(1, 2), (3, 1), (4, 1), (5, 1), (6, 1), (7, 1), (8, 1), (9, 1), (10, 1)]\n"
     ]
    }
   ],
   "source": [
    "out_put = [(i , input_list.count(i) )for i in set(input_list)]\n",
    "print(out_put)"
   ]
  },
  {
   "cell_type": "raw",
   "id": "30444bc5-895d-4ae0-a72f-74a3e7cdae33",
   "metadata": {},
   "source": [
    "15th  class PM started :"
   ]
  },
  {
   "cell_type": "code",
   "execution_count": 45,
   "id": "4ea05dcc-c050-47e6-9eac-c6e2d773e47f",
   "metadata": {},
   "outputs": [
    {
     "name": "stdout",
     "output_type": "stream",
     "text": [
      "[2, 4, 6, 8, 10]\n",
      "(2, 4, 6, 8, 10)\n",
      "{2, 4, 6, 8, 10}\n",
      "(2, 4, 6, 8, 10)\n",
      "<generator object <genexpr> at 0x0000026E6CB55C40>\n",
      "Count of even numbers: 0\n",
      "()\n"
     ]
    }
   ],
   "source": [
    "\"\"\"nave method\"\"\"\n",
    "input = (1,2,3,4,5,6,7,8,9,10)\n",
    "out_put = []\n",
    "for num in input:\n",
    "    if num%2 ==0:\n",
    "        out_put.append(num)\n",
    "print(out_put)\n",
    "#convertion  write from list to tubple \n",
    "print(tuple(out_put))\n",
    "print(set(out_put))\n",
    "\n",
    "\n",
    "\"\"\" pro method\"\"\"\n",
    "out_put = (num for num in input if num % 2==0)\n",
    "result = tuple(out_put)\n",
    "print(result)\n",
    "\n",
    "# there\n",
    "\n",
    "print(out_put)\n",
    "#print(next(out_put))\n",
    "count = len(list(out_put))  # The generator is exhausted here\n",
    "print(\"Count of even numbers:\", count)\n",
    "\n",
    "\n",
    "###################\n",
    "output = ( num for num in out_put if num % 2 ==0)\n",
    "result = tuple (output)\n",
    "print(result)\n",
    "for x in result:\n",
    "          print(x)"
   ]
  },
  {
   "cell_type": "code",
   "execution_count": 44,
   "id": "daf4138f-4592-484f-a9c2-6451e5168ed9",
   "metadata": {},
   "outputs": [
    {
     "name": "stdout",
     "output_type": "stream",
     "text": [
      "(2, 4, 6, 8, 10)\n"
     ]
    }
   ],
   "source": [
    "def main():\n",
    "    input = [1,2,3,4,5,6,7,8,9,10]\n",
    "    out_put = (num for num in input if num % 2 ==0)\n",
    "    result= tuple(out_put)\n",
    "    print(result)\n",
    "if __name__ ==\"__main__\":\n",
    "    main()"
   ]
  },
  {
   "cell_type": "code",
   "execution_count": 74,
   "id": "10b5b480-0de2-4b8c-8438-c954943b99d5",
   "metadata": {},
   "outputs": [
    {
     "name": "stdout",
     "output_type": "stream",
     "text": [
      "1 3\n",
      "1 3\n",
      "2 3\n",
      "3 3\n",
      "4 2\n",
      "5 2\n",
      "6 4\n",
      "7 1\n",
      "8 2\n",
      "3 3\n",
      "2 3\n",
      "4 2\n",
      "6 4\n",
      "6 4\n",
      "2 3\n",
      "1 3\n",
      "3 3\n",
      "5 2\n",
      "6 4\n",
      "8 2\n",
      "()\n"
     ]
    }
   ],
   "source": [
    "input = (1,1,2,3,4,5,6,7,8,3,2,4,6,6,2,1,3,5,6,8,)\n",
    "out_put = ()\n",
    "for num in input:\n",
    "    cnt = input.count(num)\n",
    "    print(num, cnt)\n",
    "    \n",
    "    output.append((num, cnt))\n",
    "result= tuple(out_put)\n",
    "print(out_put)"
   ]
  },
  {
   "cell_type": "code",
   "execution_count": 115,
   "id": "e70f6657-0623-4412-a2fe-7d4400c9086b",
   "metadata": {},
   "outputs": [
    {
     "name": "stdout",
     "output_type": "stream",
     "text": [
      "result tuple : ((1, 3), (2, 3), (3, 3), (4, 2), (5, 2), (6, 4), (7, 1), (8, 2))\n"
     ]
    }
   ],
   "source": [
    "def main():\n",
    "    input = (1,1,2,3,4,5,6,7,8,3,2,4,6,6,2,1,3,5,6,8,)\n",
    "    out_put = ((num, input.count(num)) for num in set(input))\n",
    "    result = tuple (out_put)\n",
    "    print(\"result tuple :\" ,result)\n",
    "if __name__==\"__main__\":\n",
    "    main()  "
   ]
  },
  {
   "cell_type": "code",
   "execution_count": 117,
   "id": "3eaedb04-5a5c-4a92-af86-9cd6d798f582",
   "metadata": {},
   "outputs": [
    {
     "name": "stdout",
     "output_type": "stream",
     "text": [
      "(1, 1, 2, 3, 4, 5, 6, 7, 8, 3, 2, 4, 6, 6, 2, 1, 3, 5, 6, 8)\n",
      "(1, 1, 2, 3, 4, 5, 6, 7, 8, 3, 2, 4, 6, 6, 2, 1, 3, 5, 6, 8)\n",
      "{1, 2, 3, 4, 5, 6, 7, 8}\n"
     ]
    }
   ],
   "source": [
    "input = (1,1,2,3,4,5,6,7,8,3,2,4,6,6,2,1,3,5,6,8,)\n",
    "print(input)\n",
    "output= tuple(input)\n",
    "print(output)\n",
    "\n",
    "output = { x for x in input }\n",
    "print(output)"
   ]
  },
  {
   "cell_type": "code",
   "execution_count": 138,
   "id": "fcbcf659-8464-4c2a-86a9-55fe0da1100f",
   "metadata": {},
   "outputs": [
    {
     "name": "stdout",
     "output_type": "stream",
     "text": [
      "[1, 2, 3, 4, 5, 6, 7, 8]\n",
      "[1, 2, 3, 4, 5, 6, 7, 8]\n",
      "[2, 2, 3, 2, 3, 4, 2, 3, 4, 5, 2, 3, 4, 5, 6, 2, 3, 4, 5, 6, 7]\n",
      "['no', 'no', 'no', 'no', 'no', 'no', 'no', 'no', 'no', 'no', 'no', 'no', 'no', 'no', 'no', 'no', 'no', 'no', 'no', 'no', 'no', 'no', 'no', 'no', 'no', 'no', 'no', 6, 'no', 'no', 'no', 'no', 'no', 'no', 6, 7]\n",
      "['no', 'no', 'no', 'no', 'no', 'no', 'no', 'no', 'no', 'no', 'no', 'no', 'no', 'no', 6, 'no', 'no', 'no', 'no', 6, 7, 'no', 'no', 'no', 'no', 6, 7, 8, 'no', 'no', 'no', 'no', 6, 7, 8, 9]\n"
     ]
    }
   ],
   "source": [
    "\"\"\" Depth in comprehention\"\"\"\n",
    "\n",
    "L = [1, 2, 3, 4, 5, 6, 7, 8]\n",
    "out_put = [ x for x in L]\n",
    "print(out_put)\n",
    "\n",
    "#level 1\n",
    "out_put = [ x for x in L]\n",
    "print(out_put)\n",
    "\n",
    "#level 2 \n",
    "output = [ i for x in L for i in range(x) if i > 1]\n",
    "print(output)\n",
    "\n",
    "# level 3\n",
    "output = [ i if i>5 else 'no' for x in L for i in range(x)]\n",
    "print(output)\n",
    "\n",
    "#level 4 :\n",
    "output = [i if i >5 else 'no' for x in input_list for i in range(x) if i >1]\n",
    "print(output)\n",
    "\n"
   ]
  },
  {
   "cell_type": "code",
   "execution_count": 190,
   "id": "53771ac9-eaf8-4734-8359-d284750bb624",
   "metadata": {},
   "outputs": [
    {
     "name": "stdout",
     "output_type": "stream",
     "text": [
      "{1: 1, 2: 1, 3: 1, 4: 1, 5: 1, 6: 1, 7: 1, 8: 1, 10: 1}\n",
      "{1: 1, 2: 1, 3: 1, 4: 1, 5: 1, 6: 1, 7: 1, 8: 1, 10: 1}\n",
      "{1: 1, 2: 1, 3: 1, 4: 1, 5: 1, 6: 1, 7: 1, 8: 1, 10: 1}\n",
      "(1, 2, 3, 4, 5, 6, 7, 8, 10)\n",
      "(1, 1, 1, 1, 1, 1, 1, 1, 1)\n"
     ]
    }
   ],
   "source": [
    "\"\"\" DICT comprehention \"\"\"\n",
    "list = [1,2,3,4,5,6,7,8,10]\n",
    "#out_put = { 1:1, 2:2} value : count \n",
    "result = { value : list.count(value ) for value in list}\n",
    "#dict has property no dupes on keys \n",
    "print(result)\n",
    "\n",
    "for val in set(list):\n",
    "    #print (val)\n",
    "    cnt = list.count(val)\n",
    "    result[val] = cnt\n",
    "   # result=(cnt)\n",
    "print(result)\n",
    "\n",
    "result = { vale : list.count(vale) for vale in list}\n",
    "print(result)\n",
    "\n",
    "\n",
    "\"\"\" print values and keys from python \"\"\"\n",
    "keys = ( keys for keys in result.keys())\n",
    "print(tuple(keys))\n",
    "value = ( value for value in result.values())\n",
    "print(tuple (value ))"
   ]
  },
  {
   "cell_type": "code",
   "execution_count": 191,
   "id": "bf2810ec-cb00-40d4-b730-a1a61fb020ef",
   "metadata": {},
   "outputs": [
    {
     "name": "stdout",
     "output_type": "stream",
     "text": [
      "['R', 'a', 'j', 'a', '_', 't', 'h', 'e', '_', 'g', 'r', 'e', 'a', 't']\n"
     ]
    }
   ],
   "source": [
    "#example - 1\n",
    "name = \"Raja_the_great\"\n",
    "result = [i for i in name]\n",
    "print(result)\n"
   ]
  },
  {
   "cell_type": "code",
   "execution_count": 2,
   "id": "07e1a95e-9908-4ad4-9b07-93a3a720c4f2",
   "metadata": {},
   "outputs": [
    {
     "ename": "TypeError",
     "evalue": "add_numbers() missing 1 required positional argument: 'b'",
     "output_type": "error",
     "traceback": [
      "\u001b[1;31m---------------------------------------------------------------------------\u001b[0m",
      "\u001b[1;31mTypeError\u001b[0m                                 Traceback (most recent call last)",
      "Cell \u001b[1;32mIn[2], line 11\u001b[0m\n\u001b[0;32m      9\u001b[0m     \u001b[38;5;28mprint\u001b[39m(result1)\n\u001b[0;32m     10\u001b[0m \u001b[38;5;28;01mif\u001b[39;00m \u001b[38;5;18m__name__\u001b[39m\u001b[38;5;241m==\u001b[39m\u001b[38;5;124m\"\u001b[39m\u001b[38;5;124m__main__\u001b[39m\u001b[38;5;124m\"\u001b[39m:\n\u001b[1;32m---> 11\u001b[0m     \u001b[43mmain\u001b[49m\u001b[43m(\u001b[49m\u001b[43m)\u001b[49m\n",
      "Cell \u001b[1;32mIn[2], line 6\u001b[0m, in \u001b[0;36mmain\u001b[1;34m()\u001b[0m\n\u001b[0;32m      5\u001b[0m \u001b[38;5;28;01mdef\u001b[39;00m\u001b[38;5;250m \u001b[39m\u001b[38;5;21mmain\u001b[39m():\n\u001b[1;32m----> 6\u001b[0m     result \u001b[38;5;241m=\u001b[39m \u001b[43madd_numbers\u001b[49m\u001b[43m \u001b[49m\u001b[43m(\u001b[49m\u001b[38;5;124;43m\"\u001b[39;49m\u001b[38;5;124;43mraja\u001b[39;49m\u001b[38;5;124;43m\"\u001b[39;49m\u001b[43m \u001b[49m\u001b[38;5;241;43m+\u001b[39;49m\u001b[43m \u001b[49m\u001b[38;5;124;43m\"\u001b[39;49m\u001b[38;5;124;43mranga\u001b[39;49m\u001b[38;5;124;43m\"\u001b[39;49m\u001b[43m)\u001b[49m\n\u001b[0;32m      7\u001b[0m     result1 \u001b[38;5;241m=\u001b[39m sub_stract_two_numbers(\u001b[38;5;241m5\u001b[39m,\u001b[38;5;241m7\u001b[39m)\n\u001b[0;32m      8\u001b[0m     \u001b[38;5;28mprint\u001b[39m(result)\n",
      "\u001b[1;31mTypeError\u001b[0m: add_numbers() missing 1 required positional argument: 'b'"
     ]
    }
   ],
   "source": [
    "def add_members(a,b):\n",
    "    return a+b\n",
    "def sub_stract_two_numbers(a,b):\n",
    "    return a-b\n",
    "def main():\n",
    "    result = add_numbers (\"raja\" + \"ranga\")\n",
    "    result1 = sub_stract_two_numbers(5,7)\n",
    "    print(result)\n",
    "    print(result1)\n",
    "if __name__==\"__main__\":\n",
    "    main()"
   ]
  },
  {
   "cell_type": "code",
   "execution_count": null,
   "id": "62218435-8f21-410d-959d-9e72b81625ad",
   "metadata": {},
   "outputs": [],
   "source": []
  }
 ],
 "metadata": {
  "kernelspec": {
   "display_name": "Python 3 (ipykernel)",
   "language": "python",
   "name": "python3"
  },
  "language_info": {
   "codemirror_mode": {
    "name": "ipython",
    "version": 3
   },
   "file_extension": ".py",
   "mimetype": "text/x-python",
   "name": "python",
   "nbconvert_exporter": "python",
   "pygments_lexer": "ipython3",
   "version": "3.10.11"
  }
 },
 "nbformat": 4,
 "nbformat_minor": 5
}
