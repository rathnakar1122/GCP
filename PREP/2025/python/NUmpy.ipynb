{
 "cells": [
  {
   "cell_type": "code",
   "execution_count": 6,
   "id": "8a05526c-f74d-405f-a232-020f560f42e6",
   "metadata": {},
   "outputs": [
    {
     "data": {
      "text/plain": [
       "'\\nPreprocessing: Convert timestamps into hourly buckets.\\nAggregation:\\nCount the number of unique visitors (user IDs) per hour.\\nCalculate the average session duration per region and hour.\\nAggregate session duration for each region.\\nTransformation: Identify regions with the highest number of visitors and the longest average session durations.'"
      ]
     },
     "execution_count": 6,
     "metadata": {},
     "output_type": "execute_result"
    }
   ],
   "source": [
    "\"\"\"\n",
    "timestamp, user_id, session_duration, region\n",
    "2025-01-19 12:01:00, 1, 120, North America\n",
    "2025-01-19 12:02:00, 2, 150, Europe\n",
    "2025-01-19 12:03:00, 1, 200, North America\n",
    "2025-01-19 12:03:00, 3, 180, Asia\n",
    "2025-01-19 12:04:00, 2, 240, Europe\n",
    "2025-01-19 12:05:00, 4, 130, Asia\n",
    "\"\"\"\n",
    "\"\"\"\n",
    "Preprocessing:  #Convert timestamps into hourly buckets.\n",
    "Aggregation:\n",
    "Count the number of unique visitors (user IDs) per hour.\n",
    "Calculate the average session duration per region and hour.\n",
    "Aggregate session duration for each region.\n",
    "Transformation: Identify regions with the highest number of visitors and the longest average session durations.\"\"\""
   ]
  },
  {
   "cell_type": "code",
   "execution_count": 10,
   "id": "94590521-6f72-4049-b1c7-649d851164bc",
   "metadata": {},
   "outputs": [
    {
     "name": "stdout",
     "output_type": "stream",
     "text": [
      "1\n",
      "2\n",
      "3\n",
      "Unique visitors per hour:\n",
      "hour\n",
      "12    4\n",
      "Name: user_id, dtype: int64\n",
      "\n",
      "Average session duration per region and hour:\n",
      "region         hour\n",
      "Asia           12      155.0\n",
      "Europe         12      195.0\n",
      "North America  12      160.0\n",
      "Name: session_duration, dtype: float64\n",
      "\n",
      "Total session duration per region:\n",
      "region\n",
      "Asia             310\n",
      "Europe           390\n",
      "North America    320\n",
      "Name: session_duration, dtype: int64\n",
      "\n",
      "Region with most visitors per hour: 12\n",
      "Region with highest average session duration per hour: ('Europe', 12)\n"
     ]
    }
   ],
   "source": [
    "import pandas as pd\n",
    "import numpy as np\n",
    "\n",
    "# Sample data\n",
    "data = [\n",
    "    [\"2025-01-19 12:01:00\", 1, 120, \"North America\"],\n",
    "    [\"2025-01-19 12:02:00\", 2, 150, \"Europe\"],\n",
    "    [\"2025-01-19 12:03:00\", 1, 200, \"North America\"],\n",
    "    [\"2025-01-19 12:03:00\", 3, 180, \"Asia\"],\n",
    "    [\"2025-01-19 12:04:00\", 2, 240, \"Europe\"],\n",
    "    [\"2025-01-19 12:05:00\", 4, 130, \"Asia\"]\n",
    "]\n",
    "\n",
    "# Create a DataFrame\n",
    "df = pd.DataFrame(data, columns=[\"timestamp\", \"user_id\", \"session_duration\", \"region\"])\n",
    "print(1)\n",
    "# Convert timestamp to datetime type\n",
    "df[\"timestamp\"] = pd.to_datetime(df[\"timestamp\"])\n",
    "print(2)\n",
    "# Add an 'hour' column to bucket data into hourly periods\n",
    "df[\"hour\"] = df[\"timestamp\"].dt.hour\n",
    "print(3)\n",
    "# 1. Aggregating data to count unique visitors (user_id) per hour\n",
    "unique_visitors_per_hour = df.groupby(\"hour\")[\"user_id\"].nunique()\n",
    "\n",
    "# 2. Calculating average session duration per region and hour\n",
    "avg_session_duration_per_region_hour = df.groupby([\"region\", \"hour\"])[\"session_duration\"].mean()\n",
    "\n",
    "# 3. Aggregating total session duration per region\n",
    "total_session_duration_per_region = df.groupby(\"region\")[\"session_duration\"].sum()\n",
    "\n",
    "# Display the results\n",
    "print(\"Unique visitors per hour:\")\n",
    "print(unique_visitors_per_hour)\n",
    "print(\"\\nAverage session duration per region and hour:\")\n",
    "print(avg_session_duration_per_region_hour)\n",
    "print(\"\\nTotal session duration per region:\")\n",
    "print(total_session_duration_per_region)\n",
    "\n",
    "# 4. Identify regions with highest visitors and highest avg session duration\n",
    "max_visitors_region = unique_visitors_per_hour.idxmax()\n",
    "max_avg_session_duration_region = avg_session_duration_per_region_hour.idxmax()\n",
    "\n",
    "print(f\"\\nRegion with most visitors per hour: {max_visitors_region}\")\n",
    "print(f\"Region with highest average session duration per hour: {max_avg_session_duration_region}\")\n"
   ]
  },
  {
   "cell_type": "code",
   "execution_count": null,
   "id": "b51684c0-4d94-4780-bbdc-58f227301851",
   "metadata": {},
   "outputs": [],
   "source": []
  }
 ],
 "metadata": {
  "kernelspec": {
   "display_name": "Python 3 (ipykernel)",
   "language": "python",
   "name": "python3"
  },
  "language_info": {
   "codemirror_mode": {
    "name": "ipython",
    "version": 3
   },
   "file_extension": ".py",
   "mimetype": "text/x-python",
   "name": "python",
   "nbconvert_exporter": "python",
   "pygments_lexer": "ipython3",
   "version": "3.10.11"
  }
 },
 "nbformat": 4,
 "nbformat_minor": 5
}
