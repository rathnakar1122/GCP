{
 "cells": [
  {
   "cell_type": "code",
   "execution_count": 6,
   "id": "1f1cb1d2-347f-44d9-8a5c-5090d826bacf",
   "metadata": {},
   "outputs": [
    {
     "name": "stdout",
     "output_type": "stream",
     "text": [
      "Hi, good morning!\n",
      "Could you please select one of the following options?\n",
      "1: Enter 1 if you are a new passenger.\n",
      "2: Enter 2 if you are an existing passenger.\n"
     ]
    },
    {
     "name": "stdin",
     "output_type": "stream",
     "text": [
      "Please enter your choice:  1\n"
     ]
    },
    {
     "name": "stdout",
     "output_type": "stream",
     "text": [
      "You are a new passenger. We need to get your details.\n"
     ]
    }
   ],
   "source": [
    "\"\"\"project :(HYDERABAD METRO) \n",
    "WE NEED TO WRITE A PYTHON SCRIPT WHICH WOULD USER INPUT AND IT SHOULD PRINT WHEATHER HE US AN EXSTING PASSENFER OR NEW ONE BY TAKING THE INFO FROM CUSTOMER ITSELF . \n",
    "THE SCRIPT SHOULD BE SAVED BY .MAIN\"\"\"\n",
    "\"\"\"USE: INPUT () FUNCTION ALLOWING USER INPUT \"\"\"\n",
    "print(\"Hi, good morning!\")\n",
    "print(\"Could you please select one of the following options?\")\n",
    "print(\"1: Enter 1 if you are a new passenger.\")\n",
    "print(\"2: Enter 2 if you are an existing passenger.\")\n",
    "choice = int(input(\"Please enter your choice: \"))\n",
    "\n",
    "if choice == 1:\n",
    "    print(\"You are a new passenger. We need to get your details.\")\n",
    "elif choice == 2:\n",
    "    print(\"Thank you for your input. How may I help you?\")\n",
    "else:\n",
    "    print(\"Please provide the correct choice.\")\n"
   ]
  },
  {
   "cell_type": "code",
   "execution_count": 20,
   "id": "bbd40905-362f-4d57-a43d-35e83936f1f1",
   "metadata": {},
   "outputs": [
    {
     "name": "stdout",
     "output_type": "stream",
     "text": [
      "Event counts per user: {1: 3, 2: 2, 3: 2}\n",
      "users sorted by there total events : [(1, 3), (2, 2), (3, 2)]\n",
      "count of unique event types : 3\n"
     ]
    }
   ],
   "source": [
    "\"\"\" A list of users sorted by their total number of events in descending order.\n",
    "The count of unique event types.\n",
    "\n",
    "Answer should be like this  \n",
    "* Users sorted by their total events: \n",
    "[(1, 3), (2, 2), (3, 2)]\n",
    "* Count of unique event types:\n",
    "3  # (\"login\", \"purchase\", \"logout\") \"\"\"\n",
    "from collections import defaultdict # , counter \n",
    "#from collections import defaultdict, Counter\n",
    "\n",
    "\n",
    "\n",
    "logs = [\n",
    "    {\"user_id\": 1, \"timestamp\": \"2025-01-01T10:00:00\", \"event_type\": \"login\"},\n",
    "    {\"user_id\": 2, \"timestamp\": \"2025-01-01T10:05:00\", \"event_type\": \"login\"},\n",
    "    {\"user_id\": 1, \"timestamp\": \"2025-01-01T10:10:00\", \"event_type\": \"purchase\"},\n",
    "    {\"user_id\": 1, \"timestamp\": \"2025-01-01T10:15:00\", \"event_type\": \"logout\"},\n",
    "    {\"user_id\": 2, \"timestamp\": \"2025-01-01T10:20:00\", \"event_type\": \"purchase\"},\n",
    "    {\"user_id\": 3, \"timestamp\": \"2025-01-01T10:30:00\", \"event_type\": \"login\"},\n",
    "    {\"user_id\": 3, \"timestamp\": \"2025-01-01T10:35:00\", \"event_type\": \"logout\"},\n",
    "]\n",
    "\n",
    "\n",
    "# count events as per user \n",
    "# Count events as per user\n",
    "user_event_count = defaultdict(int)\n",
    "for s in logs:\n",
    "    user_event_count[s[\"user_id\"]] += 1\n",
    "\n",
    "# Print the result\n",
    "print(\"Event counts per user:\", dict(user_event_count))\n",
    "\n",
    "sorted_user_events = sorted (user_event_count.items(), key= lambda x:x [1] , reverse = True)\n",
    "\n",
    "# count Unique event types \n",
    "event_types = {s[\"event_type\"] for s in logs }\n",
    "unique_event_count= len(event_types)\n",
    "\n",
    "print(\"users sorted by there total events :\" ,sorted_user_events)\n",
    "print(\"count of unique event types :\" , unique_event_count)"
   ]
  },
  {
   "cell_type": "code",
   "execution_count": 1,
   "id": "be464bde-5519-49c8-af98-703d18e02366",
   "metadata": {},
   "outputs": [
    {
     "name": "stdout",
     "output_type": "stream",
     "text": [
      "2025-01-14 01:30:14.507559\n",
      "2025-01-19 01:30:14.507559\n"
     ]
    }
   ],
   "source": [
    "import datetime\n",
    "\"\"\"current_date \"\"\"\n",
    "current_date = datetime.datetime.now()\n",
    "\"\"\"this will be five days after the current_date \"\"\"\n",
    "new_date = current_date + datetime.timedelta (days=5)\n",
    "print(current_date)\n",
    "print(new_date)"
   ]
  },
  {
   "cell_type": "code",
   "execution_count": 2,
   "id": "bc094ce7-3815-46b9-947e-3e2c544275cf",
   "metadata": {},
   "outputs": [
    {
     "name": "stdout",
     "output_type": "stream",
     "text": [
      "0.6\n"
     ]
    }
   ],
   "source": [
    "def division(a,b):\n",
    "    return a/b\n",
    "print(division(3,5))\n"
   ]
  },
  {
   "cell_type": "code",
   "execution_count": 2,
   "id": "58330dd0-72c3-4869-9ba6-05e8c800b2dd",
   "metadata": {},
   "outputs": [
    {
     "name": "stdin",
     "output_type": "stream",
     "text": [
      " 5\n"
     ]
    },
    {
     "name": "stdout",
     "output_type": "stream",
     "text": [
      "0\n",
      "1\n",
      "4\n",
      "9\n",
      "16\n"
     ]
    }
   ],
   "source": [
    "if __name__ == '__main__':\n",
    "    n = int(input())  # Read the integer input\n",
    "\n",
    "    # Loop through all non-negative integers less than n\n",
    "    for i in range(n):\n",
    "        print(i ** 2)  # Print the square of the current number\n"
   ]
  },
  {
   "cell_type": "code",
   "execution_count": 25,
   "id": "55275990-bde3-46ec-898c-5976d96caeeb",
   "metadata": {},
   "outputs": [
    {
     "name": "stdout",
     "output_type": "stream",
     "text": [
      "['apple', 'banana', 'cherry', 'watermelon', 'mango', 'orange', 'grape', 'banana']\n",
      "1\n",
      "7\n",
      "['apple', 'banana', 'cherry', 'watermelon', 'mango', 'orange', 'grape', 'mango', 'banana']\n"
     ]
    }
   ],
   "source": [
    "\"\"\" there is list in python and having elements of string datatypes that too they all relate to fruit names ....\n",
    "* we are supossed to add new element (string datatype - fruit name --namely 'mango') at the second occurence of the one of the exsting elements in python \n",
    "list object -- shown above ---that is banana \n",
    "\"\"\"\n",
    "fruits = [\"apple\", \"banana\", \"cherry\", \"mango\", \"orange\", \"grape\", \"banana\"]\n",
    "fruits.insert(3,'watermelon')\n",
    "print(fruits)\n",
    "\n",
    "first_index = fruits.index(\"banana\")\n",
    "second_index = fruits.index('banana',first_index+1)\n",
    "fruits.insert(second_index, 'mango')\n",
    "print(first_index)\n",
    "print(second_index)\n",
    "print(fruits)"
   ]
  },
  {
   "cell_type": "code",
   "execution_count": 58,
   "id": "11e0ac2d-0d76-4a47-9eca-c3dcb92f48c4",
   "metadata": {},
   "outputs": [
    {
     "name": "stdout",
     "output_type": "stream",
     "text": [
      "['apple', 'banana', 'cherry', 'watermelon', 'banana']\n",
      "1\n",
      "4\n",
      "['apple', 'banana', 'cherry', 'watermelon', 'mango', 'banana']\n",
      "0\n",
      "0\n",
      "['orange', 'apple', 'banana', 'cherry', 'watermelon', 'mango', 'banana']\n"
     ]
    }
   ],
   "source": [
    "fruits = [ \"apple\" , \"banana\", \"cherry\", \"banana\"]\n",
    "fruits.insert(3,\"watermelon\")\n",
    "first_index = fruits.index(\"banana\")\n",
    "# print(first_index)\n",
    "# second_index = fruit.index('banana' , first_index+1)\n",
    "# fruits.insert(second_index,'mango')\n",
    "# print(second_index)\n",
    "#print(second_index)\n",
    "print(fruits)\n",
    "print(first_index)\n",
    "\n",
    "second_index = fruits.index('banana', first_index+1)\n",
    "fruits.insert(second_index,'mango')\n",
    "\n",
    "print(second_index)\n",
    "print(fruits)\n",
    "\n",
    "f1=fruits.index(\"apple\")\n",
    "f2=fruits.index('apple', f1)\n",
    "fruits.insert(f2,'orange')\n",
    "\n",
    "print(f1)\n",
    "print(f2)\n",
    "print(fruits)"
   ]
  },
  {
   "cell_type": "code",
   "execution_count": 2,
   "id": "a6047dbd-4c34-45f3-b182-1077c9e42db0",
   "metadata": {},
   "outputs": [
    {
     "name": "stdout",
     "output_type": "stream",
     "text": [
      "['apple', 'banana', 'cherry', 'Pineapple', 'banana']\n"
     ]
    }
   ],
   "source": [
    "list_of_fruits = [\"apple\", \"banana\", \"cherry\", \"banana\"]\n",
    "# Corrected version\n",
    "list_of_fruits.insert(list_of_fruits.index('banana', list_of_fruits.index('banana') + 1), 'Pineapple')\n",
    "print(list_of_fruits)\n"
   ]
  },
  {
   "cell_type": "code",
   "execution_count": 3,
   "id": "168dbcb0-2426-46fa-ad32-cf9fa41ab53f",
   "metadata": {},
   "outputs": [
    {
     "name": "stdout",
     "output_type": "stream",
     "text": [
      "['apple', 'banana', 'cherry', 'Pineapple', 'banana']\n"
     ]
    }
   ],
   "source": [
    "list_of_fruits = [\"apple\", \"banana\", \"cherry\", \"banana\"]\n",
    "# Corrected version\n",
    "list_of_fruits.insert(list_of_fruits.index('banana', list_of_fruits.index('banana') + 1), 'Pineapple')\n",
    "print(list_of_fruits)\n"
   ]
  },
  {
   "cell_type": "code",
   "execution_count": 4,
   "id": "8d492e5c-149a-48e9-b05c-7ad673fbbebf",
   "metadata": {},
   "outputs": [
    {
     "name": "stdout",
     "output_type": "stream",
     "text": [
      "['apple', 'banana', 'cherry', 'pineapple', 'banana']\n"
     ]
    }
   ],
   "source": [
    "list_of_fruits = [\"apple\", \"banana\", \"cherry\", \"banana\"]\n",
    "list_of_fruits.insert(list_of_fruits.index('banana', list_of_fruits.index('banana') + 1), \"pineapple\")\n",
    "print(list_of_fruits)"
   ]
  },
  {
   "cell_type": "code",
   "execution_count": 5,
   "id": "c30314f0-85ea-44b3-a471-11786a351e40",
   "metadata": {},
   "outputs": [
    {
     "name": "stdout",
     "output_type": "stream",
     "text": [
      "['apple', 'banana', 'cherry', 'bananana']\n"
     ]
    }
   ],
   "source": [
    "list_of_fruits = [\"apple\", \"banana\", \"cherry\", \"bananana\"]\n",
    "print(list_of_fruits)"
   ]
  },
  {
   "cell_type": "code",
   "execution_count": null,
   "id": "50c797d4-748c-4256-9897-23d83a916837",
   "metadata": {},
   "outputs": [],
   "source": [
    "# "
   ]
  }
 ],
 "metadata": {
  "kernelspec": {
   "display_name": "Python 3 (ipykernel)",
   "language": "python",
   "name": "python3"
  },
  "language_info": {
   "codemirror_mode": {
    "name": "ipython",
    "version": 3
   },
   "file_extension": ".py",
   "mimetype": "text/x-python",
   "name": "python",
   "nbconvert_exporter": "python",
   "pygments_lexer": "ipython3",
   "version": "3.10.11"
  }
 },
 "nbformat": 4,
 "nbformat_minor": 5
}
