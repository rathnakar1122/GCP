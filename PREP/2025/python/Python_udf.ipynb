{
 "cells": [
  {
   "cell_type": "code",
   "execution_count": 2,
   "id": "bc9caccf-8f57-4b3f-b274-cbbd84623751",
   "metadata": {},
   "outputs": [
    {
     "name": "stdout",
     "output_type": "stream",
     "text": [
      "hello world!\n"
     ]
    }
   ],
   "source": [
    "# basic function defination of UDF (user defined function):\n",
    "# A single function that takes no paramter and return a greeting \n",
    "def great():\n",
    "    return \"hello world!\"\n",
    "print(great())"
   ]
  },
  {
   "cell_type": "code",
   "execution_count": 10,
   "id": "b068c878-1ce4-4667-b106-655b91e1122d",
   "metadata": {},
   "outputs": [
    {
     "name": "stdout",
     "output_type": "stream",
     "text": [
      "8\n",
      "-3\n"
     ]
    }
   ],
   "source": [
    "# Function with parameters\n",
    "def add_numbers(a, b):\n",
    "    return a + b\n",
    "\n",
    "def sub_stract(a, b):\n",
    "    return a - b\n",
    "\n",
    "print(add_numbers(3, 5))  # Output: 8\n",
    "print(sub_stract(2, 5))   # Output: -3\n"
   ]
  },
  {
   "cell_type": "code",
   "execution_count": 18,
   "id": "2aca24dc-a447-40aa-9219-23eea5ba1f66",
   "metadata": {},
   "outputs": [
    {
     "name": "stdout",
     "output_type": "stream",
     "text": [
      "hello, Guest!\n",
      "hello, alice!\n",
      "50\n",
      "7\n"
     ]
    }
   ],
   "source": [
    "# default Parameters\n",
    "# You can set default values for parameters which will be used if no argumenrts are provided\n",
    "def greet(name=\"Guest\"):\n",
    "    return f\"hello, {name}!\"\n",
    "print(greet())\n",
    "print (greet(\"alice\"))\n",
    "\n",
    "################################:\n",
    "\n",
    "def caluculate_area(length =1, width =1 ):\n",
    "    return length * width \n",
    "print(caluculate_area(5,10))\n",
    "print(caluculate_area(7))"
   ]
  },
  {
   "cell_type": "code",
   "execution_count": 25,
   "id": "202ee80d-3aea-4f98-9a6b-17a470ed4422",
   "metadata": {},
   "outputs": [
    {
     "name": "stdout",
     "output_type": "stream",
     "text": [
      "name:bob,age:25\n"
     ]
    }
   ],
   "source": [
    "# Keyword argument's\n",
    "#function can accept arguments as key_value pairs , allowing the how the flexiblity how values are passed\n",
    "def print_info(name, age):\n",
    "    print(f\"name:{name},age:{age}\")\n",
    "\n",
    "print_info(age=25,name=\"bob\")\n",
    "# order doesn't matter with keyword argument's "
   ]
  },
  {
   "cell_type": "code",
   "execution_count": 30,
   "id": "760a8f8c-4477-4489-8780-6632da57eda3",
   "metadata": {},
   "outputs": [
    {
     "name": "stdout",
     "output_type": "stream",
     "text": [
      "10\n",
      "name:alice\n",
      "age:30\n",
      "city:new yark\n"
     ]
    }
   ],
   "source": [
    "# Variable length Arguments (**args and **kwargs)\n",
    "\"\"\" * args : Allows you to pass a variable number of positional arguments \"\"\"\n",
    "\"\"\" ***Kwargs : Allows you to pass a variable number of keyword arguments \"\"\"\n",
    "# Using args \n",
    "def add_all(*numbers):\n",
    "    return sum(numbers)\n",
    "print(add_all(1,2,3,4)) \n",
    "\n",
    "\n",
    "# Using **Kwargs \n",
    "def print_details(**kwargs):\n",
    "    for key, value in kwargs.items():\n",
    "        print(f\"{key}:{value}\")\n",
    "print_details (name=\"alice\", age=30,city=\"new yark\")"
   ]
  },
  {
   "cell_type": "code",
   "execution_count": 32,
   "id": "f207d4b2-372c-4dea-b1b3-d57c572b5281",
   "metadata": {},
   "outputs": [
    {
     "name": "stdout",
     "output_type": "stream",
     "text": [
      "10.0 20.0\n"
     ]
    }
   ],
   "source": [
    "#Return multiple values \n",
    "\"\"\"functions can return mutliple valyes which can be unpacked \"\"\"\n",
    "def get_coordinates():\n",
    "    return (10.0,20.0)\n",
    "x,y = get_coordinates()\n",
    "print(x,y)"
   ]
  },
  {
   "cell_type": "code",
   "execution_count": 45,
   "id": "9552139f-88d9-4d75-a60c-4bfdd9283dc2",
   "metadata": {},
   "outputs": [
    {
     "name": "stdout",
     "output_type": "stream",
     "text": [
      "4\n",
      "16\n"
     ]
    }
   ],
   "source": [
    "#Lambda functions (Anonymous functions)\n",
    "\"\"\"Lambda is a small , anonymous function often used when you need a short function on the fly\"\"\"\n",
    "# Regular functions\n",
    "\n",
    "def squre(x):\n",
    "    return x ** 2\n",
    "print(squre(2))\n",
    "\n",
    "squre_lambda = lambda x:x ** 2\n",
    "print(squre_lambda(4))"
   ]
  },
  {
   "cell_type": "code",
   "execution_count": null,
   "id": "3fd4d6fe-8bb6-4297-aea2-275a6b093274",
   "metadata": {},
   "outputs": [],
   "source": []
  },
  {
   "cell_type": "code",
   "execution_count": 53,
   "id": "019f4639-1102-4fd4-882f-b68ae3eb6af1",
   "metadata": {},
   "outputs": [
    {
     "name": "stdout",
     "output_type": "stream",
     "text": [
      "10\n"
     ]
    }
   ],
   "source": [
    "\"\"\" 8 . Functions as First_class Citizens \n",
    "In , Functions are the First- class , meaning they can be passed as arguments to other functions turned from functions , and assign to variables \"\"\"\n",
    "\n",
    "def multiply_by_two(x):\n",
    "    return x * 2\n",
    "\n",
    "def apply_functions(func, value):\n",
    "    return func(value)\n",
    "\n",
    "result = apply_functions(multiply_by_two, 5)\n",
    "print(result)\n"
   ]
  },
  {
   "cell_type": "code",
   "execution_count": 55,
   "id": "35fdc2d0-edf2-4836-903e-5a7bdefc534c",
   "metadata": {},
   "outputs": [
    {
     "name": "stdout",
     "output_type": "stream",
     "text": [
      "25\n"
     ]
    }
   ],
   "source": [
    "def multiply_by_two(x):\n",
    "    return x**2\n",
    "def apply_functions(func, value):\n",
    "    return func(value)\n",
    "result = apply_functions(multiply_by_two,5)\n",
    "print(result)"
   ]
  },
  {
   "cell_type": "code",
   "execution_count": 56,
   "id": "576c0c7f-7edb-42e4-b6b3-f077ffe033b4",
   "metadata": {},
   "outputs": [],
   "source": [
    "\"\"\"9 . HIgher Order function \n",
    "A higher - order function is a function that takes other function as arguments or returns them \"\"\"\n",
    "def add_one(x):\n",
    "    return x+1\n",
    "def applu_twice (func, x):\n",
    "    return func(func(x))\n",
    "print(apply_twice(add_one,3)) "
   ]
  },
  {
   "cell_type": "code",
   "execution_count": 60,
   "id": "d891da6a-8fb7-4a91-a5ae-18e961e38fc1",
   "metadata": {},
   "outputs": [
    {
     "name": "stdout",
     "output_type": "stream",
     "text": [
      "inner function says: hello\n"
     ]
    }
   ],
   "source": [
    "\"\"\"10 Closures (Inner functions)\n",
    "A closer is a function defined inside another function that remembers the values from the outer function even after the outer function has finished executing \"\"\"\n",
    "def outer_function(text):\n",
    "    def inner_function():\n",
    "        return f\"inner function says: {text}\"\n",
    "    return inner_function\n",
    "\n",
    "greeting = outer_function(\"hello\")\n",
    "print(greeting())\n"
   ]
  },
  {
   "cell_type": "code",
   "execution_count": 61,
   "id": "26b1b2e5-adc3-4d15-aadb-27ca1de836f3",
   "metadata": {},
   "outputs": [
    {
     "name": "stdout",
     "output_type": "stream",
     "text": [
      "Before the function is called\n",
      "hello\n",
      "after the function is called\n"
     ]
    }
   ],
   "source": [
    "\"\"\" 11. Decorators \n",
    "A decorators is a higher order function that allows modifying the behavior of another function. They commonly used in web Frameworks (Flask) \"\"\"\n",
    "def decorator(func):\n",
    "    def wrapper():\n",
    "        print(\"Before the function is called\")\n",
    "        func()\n",
    "        print(\"after the function is called\")\n",
    "    return wrapper \n",
    "@decorator \n",
    "def say_hello():\n",
    "    print(\"hello\")\n",
    "say_hello()"
   ]
  },
  {
   "cell_type": "code",
   "execution_count": 62,
   "id": "6225987a-e8db-4066-bc84-54ab6d4a8ab5",
   "metadata": {},
   "outputs": [
    {
     "name": "stdout",
     "output_type": "stream",
     "text": [
      "120\n"
     ]
    }
   ],
   "source": [
    "\"\"\"\" 12. Recursive function \n",
    "A function that calls itself. IT's commonly used for problems like factorial, fibonacci and traa traversala \"\"\"\n",
    "def factorial(n):\n",
    "    if n==1:\n",
    "        return 1\n",
    "    return n* factorial (n-1)\n",
    "print(factorial(5)) "
   ]
  },
  {
   "cell_type": "code",
   "execution_count": 64,
   "id": "e7de0d40-d3ac-4a17-8544-45c93bed4b06",
   "metadata": {},
   "outputs": [
    {
     "name": "stdout",
     "output_type": "stream",
     "text": [
      "5\n",
      "4\n",
      "3\n",
      "2\n",
      "1\n"
     ]
    }
   ],
   "source": [
    "\"\"\" 13 Generator function \n",
    "Generators use Yield instead of return , producing a series of values lazily (One at time ) which is useal for Large Datasets  \"\"\"\n",
    "\n",
    "def countdown(n):\n",
    "    while n>0:\n",
    "        yield n \n",
    "        n -=1\n",
    "for num in countdown(5):\n",
    "    print(num)"
   ]
  },
  {
   "cell_type": "code",
   "execution_count": 65,
   "id": "2354cc5b-56f1-458c-9a8a-c9b47ee6596e",
   "metadata": {},
   "outputs": [
    {
     "name": "stdout",
     "output_type": "stream",
     "text": [
      "5\n"
     ]
    }
   ],
   "source": [
    " \"\"\" 14 . Function annotations \n",
    " You can provide metadata for functions using annotations. IT doesn't enfore types but it useful for documentaion and static type tools \"\"\"\n",
    "def add_numbers(a:int, b:int) ->int:\n",
    "    return a+b\n",
    "print(add_numbers(2,3)) "
   ]
  },
  {
   "cell_type": "code",
   "execution_count": 67,
   "id": "74653ce9-c4b9-4426-b065-8989aaf0cd38",
   "metadata": {},
   "outputs": [
    {
     "name": "stdout",
     "output_type": "stream",
     "text": [
      "25\n"
     ]
    }
   ],
   "source": [
    "\"\"\" 15. partial functions (from functools modules)\n",
    "partial functions allow you to \"freeze \" some portations of a functions's arguments and create a new function with fewer arguments \"\"\"\n",
    "from functools import partial\n",
    "\n",
    "def power(base, exponent):\n",
    "    return base ** exponent\n",
    "\n",
    "# Create a new function that always squares a number\n",
    "square = partial(power, exponent=2)\n",
    "print(square(5))\n"
   ]
  },
  {
   "cell_type": "code",
   "execution_count": 70,
   "id": "dc722b15-fc8a-4cdf-bea3-1988e4f84005",
   "metadata": {},
   "outputs": [
    {
     "name": "stdout",
     "output_type": "stream",
     "text": [
      "Hello, guest!\n",
      "Hello, Tom!\n"
     ]
    }
   ],
   "source": [
    "\"\"\" 16. Function overloading using deafult values \n",
    "Dosn't support true function overloading like some languages , but you can simulate it by using default values \"\"\"\n",
    "def greet(name=None):\n",
    "    if name:\n",
    "        return f\"Hello, {name}!\"\n",
    "    else:\n",
    "        return \"Hello, guest!\"\n",
    "\n",
    "print(greet())\n",
    "print(greet(\"Tom\"))\n"
   ]
  },
  {
   "cell_type": "code",
   "execution_count": 74,
   "id": "670673b9-672d-43e9-b8bc-9c72576d4cff",
   "metadata": {},
   "outputs": [
    {
     "name": "stdout",
     "output_type": "stream",
     "text": [
      "positional arguments : (1, 2, 3)\n",
      "Keyword argumsnts : {'nam': 'john ', 'age': 23}\n"
     ]
    }
   ],
   "source": [
    "\"\"\" 17. UNpacking arguments (**args and **Kwargs ) in function \n",
    "You can * args and **kwargs to pass a variable number of arguments and keyword arguments into a function \"\"\"\n",
    "def unpacking_example (*args , **kwargs ):\n",
    "    print(\"positional arguments :\", args )\n",
    "    print(\"Keyword argumsnts :\", kwargs )\n",
    "unpacking_example (1,2,3 , nam = \"john \" , age = 23)"
   ]
  },
  {
   "cell_type": "code",
   "execution_count": 75,
   "id": "4a42eb67-e913-4d47-aca6-518c6b35672d",
   "metadata": {},
   "outputs": [],
   "source": []
  },
  {
   "cell_type": "code",
   "execution_count": null,
   "id": "04885a01-3a6f-488a-b849-1ccc0b039c0d",
   "metadata": {},
   "outputs": [],
   "source": []
  }
 ],
 "metadata": {
  "kernelspec": {
   "display_name": "Python 3 (ipykernel)",
   "language": "python",
   "name": "python3"
  },
  "language_info": {
   "codemirror_mode": {
    "name": "ipython",
    "version": 3
   },
   "file_extension": ".py",
   "mimetype": "text/x-python",
   "name": "python",
   "nbconvert_exporter": "python",
   "pygments_lexer": "ipython3",
   "version": "3.10.11"
  }
 },
 "nbformat": 4,
 "nbformat_minor": 5
}
