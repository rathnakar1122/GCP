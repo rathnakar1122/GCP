{
 "cells": [
  {
   "cell_type": "code",
   "execution_count": 22,
   "id": "47ca8f63-c068-4029-ae41-d97f7adf92f1",
   "metadata": {},
   "outputs": [
    {
     "name": "stdout",
     "output_type": "stream",
     "text": [
      "Empty DataFrame\n",
      "Columns: []\n",
      "Index: []\n"
     ]
    }
   ],
   "source": [
    "# Dataframe constructur syntax\n",
    "import pandas as pd\n",
    "\n",
    "# Creating an empty DataFrame\n",
    "df = pd.DataFrame(data=None, index=None, columns=None, dtype=None, copy=None)\n",
    "\n",
    "# Printing the empty DataFrame\n",
    "print(df)\n"
   ]
  },
  {
   "cell_type": "code",
   "execution_count": 29,
   "id": "0be6e482-d9b8-4ee9-9b82-f3cfd05edd8d",
   "metadata": {},
   "outputs": [
    {
     "name": "stdout",
     "output_type": "stream",
     "text": [
      "  courses   free Duration\n",
      "0  spark   20000    30000\n",
      "1  pandas   2500   40days\n",
      "courses     object\n",
      "free         int64\n",
      "Duration    object\n",
      "dtype: object\n",
      "  courses     free Duration\n",
      "0  spark   20000.0    30000\n",
      "1  pandas   2500.0   40days\n",
      "courses      object\n",
      "free        float64\n",
      "Duration     object\n",
      "dtype: object\n"
     ]
    }
   ],
   "source": [
    "import pandas as pd\n",
    "technologies = [[ \"spark \", 20000, \"30000\"],\n",
    "                [\"pandas\", 2500, \"40days\"],\n",
    "               ]\n",
    "df=pd.DataFrame(technologies)\n",
    "# add columns & rows lebels to the Dataframe \n",
    "column_names = [ \"courses\", \"free\", \"Duration\"]\n",
    "#row_labels = [\"a\",\"b\"]\n",
    "df=pd.DataFrame(technologies , columns = column_names)#index = row_labels)\n",
    "print(df)\n",
    "print(df.dtypes)\n",
    "types = { 'courses': str, 'free': float, 'Duration': str }\n",
    "df = df.astype(types)\n",
    "print(df)\n",
    "print(df.dtypes)\n"
   ]
  },
  {
   "cell_type": "code",
   "execution_count": 30,
   "id": "f6ceaed5-9ee5-4fa1-a30c-d12060c120f9",
   "metadata": {},
   "outputs": [
    {
     "name": "stdout",
     "output_type": "stream",
     "text": [
      "   Courses     fee duration  Discount\n",
      "0    spark   20000   30days      1000\n",
      "1  pyspark   25000   40days     23000\n",
      "2   hadoop  260000  35 days     15000\n"
     ]
    }
   ],
   "source": [
    "import pandas as pd\n",
    "\n",
    "technologies = {\n",
    "    'Courses' : [\"spark\", \"pyspark\", \"hadoop\"],\n",
    "    'fee' : [20000, 25000, 260000],\n",
    "    'duration' : ['30days', '40days', '35 days'],\n",
    "    'Discount' : [1000, 23000, 15000]\n",
    "}\n",
    "\n",
    "df = pd.DataFrame(technologies)\n",
    "print(df)\n"
   ]
  },
  {
   "cell_type": "code",
   "execution_count": null,
   "id": "118267aa-52c7-4dde-800f-8a2d5d139f1a",
   "metadata": {},
   "outputs": [],
   "source": []
  },
  {
   "cell_type": "code",
   "execution_count": null,
   "id": "0cd716b5-4c77-42dd-b2ad-38eb23586f98",
   "metadata": {},
   "outputs": [],
   "source": []
  }
 ],
 "metadata": {
  "kernelspec": {
   "display_name": "Python 3 (ipykernel)",
   "language": "python",
   "name": "python3"
  },
  "language_info": {
   "codemirror_mode": {
    "name": "ipython",
    "version": 3
   },
   "file_extension": ".py",
   "mimetype": "text/x-python",
   "name": "python",
   "nbconvert_exporter": "python",
   "pygments_lexer": "ipython3",
   "version": "3.10.11"
  }
 },
 "nbformat": 4,
 "nbformat_minor": 5
}
